{
 "cells": [
  {
   "cell_type": "code",
   "execution_count": 1,
   "metadata": {},
   "outputs": [],
   "source": [
    "import pandas as pd\n",
    "import numpy as np"
   ]
  },
  {
   "cell_type": "code",
   "execution_count": 2,
   "metadata": {},
   "outputs": [],
   "source": [
    "ap_train_path = \"../data/application_train.csv\"\n",
    "ap_test_path = \"../data/application_test.csv\"\n",
    "br_balance_path = \"../data/bureau_balance.csv\"\n",
    "br_path = \"../data/bureau.csv\"\n",
    "cr_card_path = \"../data/credit_card_balance.csv\"\n",
    "descr_path = \"../data/HomeCredit_columns_description.csv\"\n",
    "inst_pay_path = \"../data/installments_payments.csv\"\n",
    "pos_cash_path = \"../data/POS_CASH_balance.csv\"\n",
    "pr_app_path = \"../data/previous_application.csv\""
   ]
  },
  {
   "cell_type": "code",
   "execution_count": 3,
   "metadata": {},
   "outputs": [
    {
     "data": {
      "text/plain": [
       "((307511, 122),\n",
       " (48744, 121),\n",
       " (27299925, 3),\n",
       " (1716428, 17),\n",
       " (3840312, 23),\n",
       " (13605401, 8),\n",
       " (10001358, 8),\n",
       " (1670214, 37))"
      ]
     },
     "execution_count": 3,
     "metadata": {},
     "output_type": "execute_result"
    }
   ],
   "source": [
    "train = pd.read_csv(ap_train_path)\n",
    "test = pd.read_csv(ap_test_path)\n",
    "brbalance = pd.read_csv(br_balance_path)\n",
    "br = pd.read_csv(br_path)\n",
    "card = pd.read_csv(cr_card_path)\n",
    "pay = pd.read_csv(inst_pay_path)\n",
    "poscash = pd.read_csv(pos_cash_path)\n",
    "app = pd.read_csv(pr_app_path)\n",
    "\n",
    "train.shape, test.shape, brbalance.shape, br.shape, card.shape, pay.shape, poscash.shape, app.shape"
   ]
  },
  {
   "cell_type": "code",
   "execution_count": 4,
   "metadata": {},
   "outputs": [
    {
     "data": {
      "text/html": [
       "<div>\n",
       "<style>\n",
       "    .dataframe thead tr:only-child th {\n",
       "        text-align: right;\n",
       "    }\n",
       "\n",
       "    .dataframe thead th {\n",
       "        text-align: left;\n",
       "    }\n",
       "\n",
       "    .dataframe tbody tr th {\n",
       "        vertical-align: top;\n",
       "    }\n",
       "</style>\n",
       "<table border=\"1\" class=\"dataframe\">\n",
       "  <thead>\n",
       "    <tr style=\"text-align: right;\">\n",
       "      <th></th>\n",
       "      <th>SK_ID_CURR</th>\n",
       "      <th>TARGET</th>\n",
       "      <th>NAME_CONTRACT_TYPE</th>\n",
       "      <th>CODE_GENDER</th>\n",
       "      <th>FLAG_OWN_CAR</th>\n",
       "      <th>FLAG_OWN_REALTY</th>\n",
       "      <th>CNT_CHILDREN</th>\n",
       "      <th>AMT_INCOME_TOTAL</th>\n",
       "      <th>AMT_CREDIT</th>\n",
       "      <th>AMT_ANNUITY</th>\n",
       "      <th>...</th>\n",
       "      <th>FLAG_DOCUMENT_18</th>\n",
       "      <th>FLAG_DOCUMENT_19</th>\n",
       "      <th>FLAG_DOCUMENT_20</th>\n",
       "      <th>FLAG_DOCUMENT_21</th>\n",
       "      <th>AMT_REQ_CREDIT_BUREAU_HOUR</th>\n",
       "      <th>AMT_REQ_CREDIT_BUREAU_DAY</th>\n",
       "      <th>AMT_REQ_CREDIT_BUREAU_WEEK</th>\n",
       "      <th>AMT_REQ_CREDIT_BUREAU_MON</th>\n",
       "      <th>AMT_REQ_CREDIT_BUREAU_QRT</th>\n",
       "      <th>AMT_REQ_CREDIT_BUREAU_YEAR</th>\n",
       "    </tr>\n",
       "  </thead>\n",
       "  <tbody>\n",
       "    <tr>\n",
       "      <th>0</th>\n",
       "      <td>100002</td>\n",
       "      <td>1</td>\n",
       "      <td>Cash loans</td>\n",
       "      <td>M</td>\n",
       "      <td>N</td>\n",
       "      <td>Y</td>\n",
       "      <td>0</td>\n",
       "      <td>202500.0</td>\n",
       "      <td>406597.5</td>\n",
       "      <td>24700.5</td>\n",
       "      <td>...</td>\n",
       "      <td>0</td>\n",
       "      <td>0</td>\n",
       "      <td>0</td>\n",
       "      <td>0</td>\n",
       "      <td>0.0</td>\n",
       "      <td>0.0</td>\n",
       "      <td>0.0</td>\n",
       "      <td>0.0</td>\n",
       "      <td>0.0</td>\n",
       "      <td>1.0</td>\n",
       "    </tr>\n",
       "    <tr>\n",
       "      <th>1</th>\n",
       "      <td>100003</td>\n",
       "      <td>0</td>\n",
       "      <td>Cash loans</td>\n",
       "      <td>F</td>\n",
       "      <td>N</td>\n",
       "      <td>N</td>\n",
       "      <td>0</td>\n",
       "      <td>270000.0</td>\n",
       "      <td>1293502.5</td>\n",
       "      <td>35698.5</td>\n",
       "      <td>...</td>\n",
       "      <td>0</td>\n",
       "      <td>0</td>\n",
       "      <td>0</td>\n",
       "      <td>0</td>\n",
       "      <td>0.0</td>\n",
       "      <td>0.0</td>\n",
       "      <td>0.0</td>\n",
       "      <td>0.0</td>\n",
       "      <td>0.0</td>\n",
       "      <td>0.0</td>\n",
       "    </tr>\n",
       "    <tr>\n",
       "      <th>2</th>\n",
       "      <td>100004</td>\n",
       "      <td>0</td>\n",
       "      <td>Revolving loans</td>\n",
       "      <td>M</td>\n",
       "      <td>Y</td>\n",
       "      <td>Y</td>\n",
       "      <td>0</td>\n",
       "      <td>67500.0</td>\n",
       "      <td>135000.0</td>\n",
       "      <td>6750.0</td>\n",
       "      <td>...</td>\n",
       "      <td>0</td>\n",
       "      <td>0</td>\n",
       "      <td>0</td>\n",
       "      <td>0</td>\n",
       "      <td>0.0</td>\n",
       "      <td>0.0</td>\n",
       "      <td>0.0</td>\n",
       "      <td>0.0</td>\n",
       "      <td>0.0</td>\n",
       "      <td>0.0</td>\n",
       "    </tr>\n",
       "    <tr>\n",
       "      <th>3</th>\n",
       "      <td>100006</td>\n",
       "      <td>0</td>\n",
       "      <td>Cash loans</td>\n",
       "      <td>F</td>\n",
       "      <td>N</td>\n",
       "      <td>Y</td>\n",
       "      <td>0</td>\n",
       "      <td>135000.0</td>\n",
       "      <td>312682.5</td>\n",
       "      <td>29686.5</td>\n",
       "      <td>...</td>\n",
       "      <td>0</td>\n",
       "      <td>0</td>\n",
       "      <td>0</td>\n",
       "      <td>0</td>\n",
       "      <td>NaN</td>\n",
       "      <td>NaN</td>\n",
       "      <td>NaN</td>\n",
       "      <td>NaN</td>\n",
       "      <td>NaN</td>\n",
       "      <td>NaN</td>\n",
       "    </tr>\n",
       "    <tr>\n",
       "      <th>4</th>\n",
       "      <td>100007</td>\n",
       "      <td>0</td>\n",
       "      <td>Cash loans</td>\n",
       "      <td>M</td>\n",
       "      <td>N</td>\n",
       "      <td>Y</td>\n",
       "      <td>0</td>\n",
       "      <td>121500.0</td>\n",
       "      <td>513000.0</td>\n",
       "      <td>21865.5</td>\n",
       "      <td>...</td>\n",
       "      <td>0</td>\n",
       "      <td>0</td>\n",
       "      <td>0</td>\n",
       "      <td>0</td>\n",
       "      <td>0.0</td>\n",
       "      <td>0.0</td>\n",
       "      <td>0.0</td>\n",
       "      <td>0.0</td>\n",
       "      <td>0.0</td>\n",
       "      <td>0.0</td>\n",
       "    </tr>\n",
       "  </tbody>\n",
       "</table>\n",
       "<p>5 rows × 122 columns</p>\n",
       "</div>"
      ],
      "text/plain": [
       "   SK_ID_CURR  TARGET NAME_CONTRACT_TYPE CODE_GENDER FLAG_OWN_CAR  \\\n",
       "0      100002       1         Cash loans           M            N   \n",
       "1      100003       0         Cash loans           F            N   \n",
       "2      100004       0    Revolving loans           M            Y   \n",
       "3      100006       0         Cash loans           F            N   \n",
       "4      100007       0         Cash loans           M            N   \n",
       "\n",
       "  FLAG_OWN_REALTY  CNT_CHILDREN  AMT_INCOME_TOTAL  AMT_CREDIT  AMT_ANNUITY  \\\n",
       "0               Y             0          202500.0    406597.5      24700.5   \n",
       "1               N             0          270000.0   1293502.5      35698.5   \n",
       "2               Y             0           67500.0    135000.0       6750.0   \n",
       "3               Y             0          135000.0    312682.5      29686.5   \n",
       "4               Y             0          121500.0    513000.0      21865.5   \n",
       "\n",
       "              ...              FLAG_DOCUMENT_18 FLAG_DOCUMENT_19  \\\n",
       "0             ...                             0                0   \n",
       "1             ...                             0                0   \n",
       "2             ...                             0                0   \n",
       "3             ...                             0                0   \n",
       "4             ...                             0                0   \n",
       "\n",
       "  FLAG_DOCUMENT_20 FLAG_DOCUMENT_21 AMT_REQ_CREDIT_BUREAU_HOUR  \\\n",
       "0                0                0                        0.0   \n",
       "1                0                0                        0.0   \n",
       "2                0                0                        0.0   \n",
       "3                0                0                        NaN   \n",
       "4                0                0                        0.0   \n",
       "\n",
       "  AMT_REQ_CREDIT_BUREAU_DAY  AMT_REQ_CREDIT_BUREAU_WEEK  \\\n",
       "0                       0.0                         0.0   \n",
       "1                       0.0                         0.0   \n",
       "2                       0.0                         0.0   \n",
       "3                       NaN                         NaN   \n",
       "4                       0.0                         0.0   \n",
       "\n",
       "   AMT_REQ_CREDIT_BUREAU_MON  AMT_REQ_CREDIT_BUREAU_QRT  \\\n",
       "0                        0.0                        0.0   \n",
       "1                        0.0                        0.0   \n",
       "2                        0.0                        0.0   \n",
       "3                        NaN                        NaN   \n",
       "4                        0.0                        0.0   \n",
       "\n",
       "   AMT_REQ_CREDIT_BUREAU_YEAR  \n",
       "0                         1.0  \n",
       "1                         0.0  \n",
       "2                         0.0  \n",
       "3                         NaN  \n",
       "4                         0.0  \n",
       "\n",
       "[5 rows x 122 columns]"
      ]
     },
     "execution_count": 4,
     "metadata": {},
     "output_type": "execute_result"
    }
   ],
   "source": [
    "train.head()"
   ]
  },
  {
   "cell_type": "code",
   "execution_count": 8,
   "metadata": {},
   "outputs": [],
   "source": [
    "def check_has_null(df):\n",
    "    cols = df.columns\n",
    "    has_null = dict()\n",
    "    for col in cols:\n",
    "        null_mean = df[col].isnull().mean()\n",
    "        if null_mean > 0.0:\n",
    "            has_null[col] = null_mean\n",
    "    for key, val in has_null.items():\n",
    "        print(f\"{key}: {val}\")"
   ]
  },
  {
   "cell_type": "code",
   "execution_count": 9,
   "metadata": {},
   "outputs": [
    {
     "name": "stdout",
     "output_type": "stream",
     "text": [
      "AMT_ANNUITY: 3.9022994299390916e-05\n",
      "AMT_GOODS_PRICE: 0.0009040327012692228\n",
      "NAME_TYPE_SUITE: 0.004201475719567756\n",
      "OWN_CAR_AGE: 0.6599081008484249\n",
      "OCCUPATION_TYPE: 0.31345545362604915\n",
      "CNT_FAM_MEMBERS: 6.503832383231819e-06\n",
      "EXT_SOURCE_1: 0.5638107254699832\n",
      "EXT_SOURCE_2: 0.0021462646864665006\n",
      "EXT_SOURCE_3: 0.19825307062186392\n",
      "APARTMENTS_AVG: 0.5074972927797705\n",
      "BASEMENTAREA_AVG: 0.5851595552679416\n",
      "YEARS_BEGINEXPLUATATION_AVG: 0.48781019215572774\n",
      "YEARS_BUILD_AVG: 0.6649778381911542\n",
      "COMMONAREA_AVG: 0.6987229725115525\n",
      "ELEVATORS_AVG: 0.532959796560123\n",
      "ENTRANCES_AVG: 0.503487680115508\n",
      "FLOORSMAX_AVG: 0.4976082156410665\n",
      "FLOORSMIN_AVG: 0.6784862980511266\n",
      "LANDAREA_AVG: 0.5937673774271489\n",
      "LIVINGAPARTMENTS_AVG: 0.6835495315614726\n",
      "LIVINGAREA_AVG: 0.5019332641759157\n",
      "NONLIVINGAPARTMENTS_AVG: 0.6943296337366793\n",
      "NONLIVINGAREA_AVG: 0.5517916432257708\n",
      "APARTMENTS_MODE: 0.5074972927797705\n",
      "BASEMENTAREA_MODE: 0.5851595552679416\n",
      "YEARS_BEGINEXPLUATATION_MODE: 0.48781019215572774\n",
      "YEARS_BUILD_MODE: 0.6649778381911542\n",
      "COMMONAREA_MODE: 0.6987229725115525\n",
      "ELEVATORS_MODE: 0.532959796560123\n",
      "ENTRANCES_MODE: 0.503487680115508\n",
      "FLOORSMAX_MODE: 0.4976082156410665\n",
      "FLOORSMIN_MODE: 0.6784862980511266\n",
      "LANDAREA_MODE: 0.5937673774271489\n",
      "LIVINGAPARTMENTS_MODE: 0.6835495315614726\n",
      "LIVINGAREA_MODE: 0.5019332641759157\n",
      "NONLIVINGAPARTMENTS_MODE: 0.6943296337366793\n",
      "NONLIVINGAREA_MODE: 0.5517916432257708\n",
      "APARTMENTS_MEDI: 0.5074972927797705\n",
      "BASEMENTAREA_MEDI: 0.5851595552679416\n",
      "YEARS_BEGINEXPLUATATION_MEDI: 0.48781019215572774\n",
      "YEARS_BUILD_MEDI: 0.6649778381911542\n",
      "COMMONAREA_MEDI: 0.6987229725115525\n",
      "ELEVATORS_MEDI: 0.532959796560123\n",
      "ENTRANCES_MEDI: 0.503487680115508\n",
      "FLOORSMAX_MEDI: 0.4976082156410665\n",
      "FLOORSMIN_MEDI: 0.6784862980511266\n",
      "LANDAREA_MEDI: 0.5937673774271489\n",
      "LIVINGAPARTMENTS_MEDI: 0.6835495315614726\n",
      "LIVINGAREA_MEDI: 0.5019332641759157\n",
      "NONLIVINGAPARTMENTS_MEDI: 0.6943296337366793\n",
      "NONLIVINGAREA_MEDI: 0.5517916432257708\n",
      "FONDKAPREMONT_MODE: 0.6838617155158677\n",
      "HOUSETYPE_MODE: 0.50176091261776\n",
      "TOTALAREA_MODE: 0.4826851722377411\n",
      "WALLSMATERIAL_MODE: 0.508407829313423\n",
      "EMERGENCYSTATE_MODE: 0.47398304450897694\n",
      "OBS_30_CNT_SOCIAL_CIRCLE: 0.0033202064316398437\n",
      "DEF_30_CNT_SOCIAL_CIRCLE: 0.0033202064316398437\n",
      "OBS_60_CNT_SOCIAL_CIRCLE: 0.0033202064316398437\n",
      "DEF_60_CNT_SOCIAL_CIRCLE: 0.0033202064316398437\n",
      "DAYS_LAST_PHONE_CHANGE: 3.2519161916159095e-06\n",
      "AMT_REQ_CREDIT_BUREAU_HOUR: 0.13501630835970097\n",
      "AMT_REQ_CREDIT_BUREAU_DAY: 0.13501630835970097\n",
      "AMT_REQ_CREDIT_BUREAU_WEEK: 0.13501630835970097\n",
      "AMT_REQ_CREDIT_BUREAU_MON: 0.13501630835970097\n",
      "AMT_REQ_CREDIT_BUREAU_QRT: 0.13501630835970097\n",
      "AMT_REQ_CREDIT_BUREAU_YEAR: 0.13501630835970097\n"
     ]
    }
   ],
   "source": [
    "check_has_null(train)"
   ]
  },
  {
   "cell_type": "code",
   "execution_count": 68,
   "metadata": {},
   "outputs": [
    {
     "data": {
      "text/plain": [
       "(58,)"
      ]
     },
     "execution_count": 68,
     "metadata": {},
     "output_type": "execute_result"
    }
   ],
   "source": [
    "train[\"ORGANIZATION_TYPE\"].unique().shape"
   ]
  },
  {
   "cell_type": "code",
   "execution_count": 30,
   "metadata": {},
   "outputs": [
    {
     "data": {
      "text/plain": [
       "array([  -637,  -1188,   -225, ..., -12971, -11084,  -8694])"
      ]
     },
     "execution_count": 30,
     "metadata": {},
     "output_type": "execute_result"
    }
   ],
   "source": [
    "train[\"DAYS_EMPLOYED\"].unique()"
   ]
  },
  {
   "cell_type": "code",
   "execution_count": 74,
   "metadata": {},
   "outputs": [
    {
     "data": {
      "text/plain": [
       "0.00052726523870988168"
      ]
     },
     "execution_count": 74,
     "metadata": {},
     "output_type": "execute_result"
    }
   ],
   "source": [
    "train[\"EXT_SOURCE_3\"].min()"
   ]
  },
  {
   "cell_type": "code",
   "execution_count": null,
   "metadata": {},
   "outputs": [],
   "source": []
  }
 ],
 "metadata": {
  "kernelspec": {
   "display_name": "Python 3",
   "language": "python",
   "name": "python3"
  },
  "language_info": {
   "codemirror_mode": {
    "name": "ipython",
    "version": 3
   },
   "file_extension": ".py",
   "mimetype": "text/x-python",
   "name": "python",
   "nbconvert_exporter": "python",
   "pygments_lexer": "ipython3",
   "version": "3.6.3"
  }
 },
 "nbformat": 4,
 "nbformat_minor": 2
}
