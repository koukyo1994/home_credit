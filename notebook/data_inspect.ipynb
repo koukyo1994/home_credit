{
 "cells": [
  {
   "cell_type": "code",
   "execution_count": 1,
   "metadata": {},
   "outputs": [],
   "source": [
    "import pandas as pd\n",
    "import numpy as np"
   ]
  },
  {
   "cell_type": "code",
   "execution_count": 2,
   "metadata": {},
   "outputs": [],
   "source": [
    "ap_train_path = \"../data/application_train.csv\"\n",
    "ap_test_path = \"../data/application_test.csv\"\n",
    "br_balance_path = \"../data/bureau_balance.csv\"\n",
    "br_path = \"../data/bureau.csv\"\n",
    "cr_card_path = \"../data/credit_card_balance.csv\"\n",
    "descr_path = \"../data/HomeCredit_columns_description.csv\"\n",
    "inst_pay_path = \"../data/installments_payments.csv\"\n",
    "pos_cash_path = \"../data/POS_CASH_balance.csv\"\n",
    "pr_app_path = \"../data/previous_application.csv\""
   ]
  },
  {
   "cell_type": "code",
   "execution_count": null,
   "metadata": {},
   "outputs": [
    {
     "data": {
      "text/plain": [
       "((307511, 122),\n",
       " (48744, 121),\n",
       " (27299925, 3),\n",
       " (1716428, 17),\n",
       " (3840312, 23),\n",
       " (13605401, 8),\n",
       " (10001358, 8),\n",
       " (1670214, 37))"
      ]
     },
     "execution_count": 5,
     "metadata": {},
     "output_type": "execute_result"
    }
   ],
   "source": [
    "train = pd.read_csv(ap_train_path)\n",
    "test = pd.read_csv(ap_test_path)\n",
    "brbalance = pd.read_csv(br_balance_path)\n",
    "br = pd.read_csv(br_path)\n",
    "card = pd.read_csv(cr_card_path)\n",
    "pay = pd.read_csv(inst_pay_path)\n",
    "poscash = pd.read_csv(pos_cash_path)\n",
    "app = pd.read_csv(pr_app_path)\n",
    "\n",
    "train.shape, test.shape, brbalance.shape, br.shape, card.shape, pay.shape, poscash.shape, app.shape"
   ]
  },
  {
   "cell_type": "code",
   "execution_count": null,
   "metadata": {},
   "outputs": [],
   "source": [
    "train.s"
   ]
  }
 ],
 "metadata": {
  "kernelspec": {
   "display_name": "Python 3",
   "language": "python",
   "name": "python3"
  },
  "language_info": {
   "codemirror_mode": {
    "name": "ipython",
    "version": 3
   },
   "file_extension": ".py",
   "mimetype": "text/x-python",
   "name": "python",
   "nbconvert_exporter": "python",
   "pygments_lexer": "ipython3",
   "version": "3.6.4"
  }
 },
 "nbformat": 4,
 "nbformat_minor": 2
}
