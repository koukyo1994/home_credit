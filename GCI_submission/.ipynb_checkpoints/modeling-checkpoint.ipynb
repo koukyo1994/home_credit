{
 "cells": [
  {
   "cell_type": "code",
   "execution_count": 1,
   "metadata": {},
   "outputs": [],
   "source": [
    "import numpy as np\n",
    "import pandas as pd\n",
    "import matplotlib.pyplot as plt\n",
    "import seaborn as sns\n",
    "from sklearn.metrics import roc_auc_score, roc_curve\n",
    "from sklearn.model_selection import KFold, StratifiedKFold\n",
    "from sklearn.ensemble import RandomForestRegressor\n",
    "from joblib import Parallel, delayed\n",
    "import numpy.random as random"
   ]
  },
  {
   "cell_type": "code",
   "execution_count": 2,
   "metadata": {},
   "outputs": [
    {
     "data": {
      "text/plain": [
       "(307511, 122)"
      ]
     },
     "execution_count": 2,
     "metadata": {},
     "output_type": "execute_result"
    }
   ],
   "source": [
    "df_path = \"../data/application_train.csv\"\n",
    "df = pd.read_csv(df_path)\n",
    "df.shape"
   ]
  },
  {
   "cell_type": "code",
   "execution_count": 14,
   "metadata": {},
   "outputs": [
    {
     "data": {
      "text/plain": [
       "'ORGANIZATION_TYPE'"
      ]
     },
     "execution_count": 14,
     "metadata": {},
     "output_type": "execute_result"
    }
   ],
   "source": [
    "df[\"DAYS_ID_PUBLISH\"].name"
   ]
  },
  {
   "cell_type": "code",
   "execution_count": 15,
   "metadata": {},
   "outputs": [],
   "source": [
    "class TargetEncoder:\n",
    "    def __init__(self):\n",
    "        self.encoder = None\n",
    "        \n",
    "    def fit(self, cat, target):\n",
    "        colname_cat = cat.name\n",
    "        colname_target = target.name\n",
    "        \n",
    "        concat = pd.concat([cat, target], axis=1)\n",
    "        self.encoder = concat.groupby(colname_cat)[colname_target].mean()\n",
    "    \n",
    "    def transform(self, cat):\n",
    "        target = cat.map(self.encoder)\n",
    "        return target\n",
    "    \n",
    "    def fit_transform(self, cat, target):\n",
    "        self.fit(cat, target)\n",
    "        encoded = self.transform(cat)\n",
    "        return encoded"
   ]
  },
  {
   "cell_type": "code",
   "execution_count": 34,
   "metadata": {},
   "outputs": [],
   "source": [
    "df = df.dropna(subset=[\"AMT_GOODS_PRICE\", \"AMT_ANNUITY\"])"
   ]
  },
  {
   "cell_type": "code",
   "execution_count": 35,
   "metadata": {},
   "outputs": [],
   "source": [
    "df[\"DAYS_EMPLOYED\"] = df[\"DAYS_EMPLOYED\"].map(lambda x:x if x != 365243 else 0)\n",
    "df[\"CREDIT_INCOME_RATIO\"] = df[\"AMT_CREDIT\"] / df[\"AMT_INCOME_TOTAL\"]\n",
    "df[\"CREDIT_GOODS_RATIO\"] = df[\"AMT_CREDIT\"] / df[\"AMT_GOODS_PRICE\"]\n",
    "df[\"CREDIT_ANNUITY_RATIO\"] = df[\"AMT_CREDIT\"] / df[\"AMT_ANNUITY\"]\n",
    "df[\"EMPLOYED_BIRTH_RATIO\"] = df[\"DAYS_EMPLOYED\"] / df[\"DAYS_BIRTH\"]\n",
    "\n",
    "te = TargetEncoder()\n",
    "df[\"REGION_TARGET_ENCODED\"] = te.fit_transform(df[\"REGION_POPULATION_RELATIVE\"], df[\"TARGET\"])\n",
    "df[\"ORGANIZATION_TARGET_ENCODED\"] = te.fit_transform(df[\"ORGANIZATION_TYPE\"], df[\"TARGET\"])\n",
    "\n",
    "columns_to_use = [\"DAYS_EMPLOYED\", \"CREDIT_INCOME_RATIO\", \"CREDIT_GOODS_RATIO\",\n",
    "                  \"CREDIT_ANNUITY_RATIO\", \"REGION_TARGET_ENCODED\",\n",
    "                  \"DAYS_BIRTH\", \"EMPLOYED_BIRTH_RATIO\", \"DAYS_ID_PUBLISH\", \"ORGANIZATION_TARGET_ENCODED\"]\n",
    "\n",
    "X = df[columns_to_use].values\n",
    "y = df[\"TARGET\"].values"
   ]
  },
  {
   "cell_type": "code",
   "execution_count": 36,
   "metadata": {},
   "outputs": [
    {
     "data": {
      "text/plain": [
       "((102407, 9), (102407, 9), (102407, 9), (102407,), (102407,), (102407,))"
      ]
     },
     "execution_count": 36,
     "metadata": {},
     "output_type": "execute_result"
    }
   ],
   "source": [
    "skf = StratifiedKFold(n_splits=3)\n",
    "for train_idx, test_idx in skf.split(X, y):\n",
    "    train_tmp = X[train_idx]\n",
    "    y_train_tmp = y[train_idx]\n",
    "    Xfold3 = X[test_idx]\n",
    "    yfold3 = y[test_idx]\n",
    "    \n",
    "skf2 = StratifiedKFold(n_splits=2)\n",
    "for train_idx, test_idx in skf2.split(train_tmp, y_train_tmp):\n",
    "    Xfold1 = train_tmp[train_idx]\n",
    "    yfold1 = y_train_tmp[train_idx]\n",
    "    Xfold2 = train_tmp[test_idx]\n",
    "    yfold2 = y_train_tmp[test_idx]\n",
    "    \n",
    "Xfold1.shape, Xfold2.shape, Xfold3.shape, yfold1.shape, yfold2.shape, yfold3.shape"
   ]
  },
  {
   "cell_type": "code",
   "execution_count": 38,
   "metadata": {},
   "outputs": [
    {
     "name": "stdout",
     "output_type": "stream",
     "text": [
      "AUC:  0.5859685617690992\n"
     ]
    }
   ],
   "source": [
    "old_model = RandomForestRegressor()\n",
    "old_model.fit(Xfold1, yfold1)\n",
    "ypred1 = old_model.predict(Xfold2)\n",
    "auc = roc_auc_score(yfold2, ypred1)\n",
    "print(\"AUC: \", auc)"
   ]
  },
  {
   "cell_type": "code",
   "execution_count": null,
   "metadata": {},
   "outputs": [],
   "source": []
  }
 ],
 "metadata": {
  "kernelspec": {
   "display_name": "Python 3",
   "language": "python",
   "name": "python3"
  },
  "language_info": {
   "codemirror_mode": {
    "name": "ipython",
    "version": 3
   },
   "file_extension": ".py",
   "mimetype": "text/x-python",
   "name": "python",
   "nbconvert_exporter": "python",
   "pygments_lexer": "ipython3",
   "version": "3.6.3"
  }
 },
 "nbformat": 4,
 "nbformat_minor": 2
}
