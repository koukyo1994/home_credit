{
 "cells": [
  {
   "cell_type": "code",
   "execution_count": 112,
   "metadata": {},
   "outputs": [],
   "source": [
    "import numpy as np\n",
    "import pandas as pd\n",
    "import matplotlib.pyplot as plt\n",
    "import seaborn as sns\n",
    "import sys\n",
    "from sklearn.metrics import roc_auc_score, roc_curve\n",
    "from sklearn.model_selection import KFold, StratifiedKFold\n",
    "from sklearn.ensemble import RandomForestRegressor\n",
    "from joblib import Parallel, delayed\n",
    "import numpy.random as random"
   ]
  },
  {
   "cell_type": "code",
   "execution_count": 2,
   "metadata": {},
   "outputs": [
    {
     "data": {
      "text/plain": [
       "(307511, 122)"
      ]
     },
     "execution_count": 2,
     "metadata": {},
     "output_type": "execute_result"
    }
   ],
   "source": [
    "df_path = \"../data/application_train.csv\"\n",
    "df = pd.read_csv(df_path)\n",
    "df.shape"
   ]
  },
  {
   "cell_type": "code",
   "execution_count": 14,
   "metadata": {},
   "outputs": [
    {
     "data": {
      "text/plain": [
       "'ORGANIZATION_TYPE'"
      ]
     },
     "execution_count": 14,
     "metadata": {},
     "output_type": "execute_result"
    }
   ],
   "source": [
    "df[\"DAYS_ID_PUBLISH\"].name"
   ]
  },
  {
   "cell_type": "code",
   "execution_count": 15,
   "metadata": {},
   "outputs": [],
   "source": [
    "class TargetEncoder:\n",
    "    def __init__(self):\n",
    "        self.encoder = None\n",
    "        \n",
    "    def fit(self, cat, target):\n",
    "        colname_cat = cat.name\n",
    "        colname_target = target.name\n",
    "        \n",
    "        concat = pd.concat([cat, target], axis=1)\n",
    "        self.encoder = concat.groupby(colname_cat)[colname_target].mean()\n",
    "    \n",
    "    def transform(self, cat):\n",
    "        target = cat.map(self.encoder)\n",
    "        return target\n",
    "    \n",
    "    def fit_transform(self, cat, target):\n",
    "        self.fit(cat, target)\n",
    "        encoded = self.transform(cat)\n",
    "        return encoded"
   ]
  },
  {
   "cell_type": "code",
   "execution_count": 34,
   "metadata": {},
   "outputs": [],
   "source": [
    "df = df.dropna(subset=[\"AMT_GOODS_PRICE\", \"AMT_ANNUITY\"])"
   ]
  },
  {
   "cell_type": "code",
   "execution_count": 35,
   "metadata": {},
   "outputs": [],
   "source": [
    "df[\"DAYS_EMPLOYED\"] = df[\"DAYS_EMPLOYED\"].map(lambda x:x if x != 365243 else 0)\n",
    "df[\"CREDIT_INCOME_RATIO\"] = df[\"AMT_CREDIT\"] / df[\"AMT_INCOME_TOTAL\"]\n",
    "df[\"CREDIT_GOODS_RATIO\"] = df[\"AMT_CREDIT\"] / df[\"AMT_GOODS_PRICE\"]\n",
    "df[\"CREDIT_ANNUITY_RATIO\"] = df[\"AMT_CREDIT\"] / df[\"AMT_ANNUITY\"]\n",
    "df[\"EMPLOYED_BIRTH_RATIO\"] = df[\"DAYS_EMPLOYED\"] / df[\"DAYS_BIRTH\"]\n",
    "\n",
    "te = TargetEncoder()\n",
    "df[\"REGION_TARGET_ENCODED\"] = te.fit_transform(df[\"REGION_POPULATION_RELATIVE\"], df[\"TARGET\"])\n",
    "df[\"ORGANIZATION_TARGET_ENCODED\"] = te.fit_transform(df[\"ORGANIZATION_TYPE\"], df[\"TARGET\"])\n",
    "\n",
    "columns_to_use = [\"DAYS_EMPLOYED\", \"CREDIT_INCOME_RATIO\", \"CREDIT_GOODS_RATIO\",\n",
    "                  \"CREDIT_ANNUITY_RATIO\", \"REGION_TARGET_ENCODED\",\n",
    "                  \"DAYS_BIRTH\", \"EMPLOYED_BIRTH_RATIO\", \"DAYS_ID_PUBLISH\", \"ORGANIZATION_TARGET_ENCODED\"]\n",
    "\n",
    "X = df[columns_to_use].values\n",
    "y = df[\"TARGET\"].values"
   ]
  },
  {
   "cell_type": "code",
   "execution_count": 36,
   "metadata": {},
   "outputs": [
    {
     "data": {
      "text/plain": [
       "((102407, 9), (102407, 9), (102407, 9), (102407,), (102407,), (102407,))"
      ]
     },
     "execution_count": 36,
     "metadata": {},
     "output_type": "execute_result"
    }
   ],
   "source": [
    "skf = StratifiedKFold(n_splits=3)\n",
    "for train_idx, test_idx in skf.split(X, y):\n",
    "    train_tmp = X[train_idx]\n",
    "    y_train_tmp = y[train_idx]\n",
    "    Xfold3 = X[test_idx]\n",
    "    yfold3 = y[test_idx]\n",
    "    \n",
    "skf2 = StratifiedKFold(n_splits=2)\n",
    "for train_idx, test_idx in skf2.split(train_tmp, y_train_tmp):\n",
    "    Xfold1 = train_tmp[train_idx]\n",
    "    yfold1 = y_train_tmp[train_idx]\n",
    "    Xfold2 = train_tmp[test_idx]\n",
    "    yfold2 = y_train_tmp[test_idx]\n",
    "    \n",
    "Xfold1.shape, Xfold2.shape, Xfold3.shape, yfold1.shape, yfold2.shape, yfold3.shape"
   ]
  },
  {
   "cell_type": "code",
   "execution_count": 49,
   "metadata": {},
   "outputs": [
    {
     "name": "stdout",
     "output_type": "stream",
     "text": [
      "AUC:  0.669248981293876\n"
     ]
    }
   ],
   "source": [
    "old_model = RandomForestRegressor(max_depth=10, n_estimators=100, n_jobs=-1)\n",
    "old_model.fit(Xfold1, yfold1)\n",
    "ypred1 = old_model.predict(Xfold2)\n",
    "auc = roc_auc_score(yfold2, ypred1)\n",
    "print(\"AUC: \", auc)"
   ]
  },
  {
   "cell_type": "code",
   "execution_count": 53,
   "metadata": {},
   "outputs": [
    {
     "data": {
      "image/png": "[encoded data removed]",
      "text/plain": [
       "<matplotlib.figure.Figure at 0x7fc2a22462b0>"
      ]
     },
     "metadata": {},
     "output_type": "display_data"
    }
   ],
   "source": [
    "fpr, tpr, thresholds = roc_curve(yfold2, ypred1)\n",
    "plt.figure()\n",
    "plt.title(\"ROC Curve\")\n",
    "plt.xlabel(\"False Positive Rate\")\n",
    "plt.ylabel(\"True Positive Rate\")\n",
    "plt.plot(fpr, tpr)\n",
    "plt.show()"
   ]
  },
  {
   "cell_type": "code",
   "execution_count": 66,
   "metadata": {},
   "outputs": [
    {
     "data": {
      "image/png": "[encoded data removed]",
      "text/plain": [
       "<matplotlib.figure.Figure at 0x7fc2a7490780>"
      ]
     },
     "metadata": {},
     "output_type": "display_data"
    }
   ],
   "source": [
    "plt.hist(ypred1, bins=100)\n",
    "plt.xlabel(\"Estimated Probability of Default\")\n",
    "plt.ylabel(\"Number of records\")\n",
    "plt.show()"
   ]
  },
  {
   "cell_type": "code",
   "execution_count": 75,
   "metadata": {},
   "outputs": [
    {
     "data": {
      "text/plain": [
       "(243,)"
      ]
     },
     "execution_count": 75,
     "metadata": {},
     "output_type": "execute_result"
    }
   ],
   "source": [
    "np.where(ypred1 > 0.3)[0].shape"
   ]
  },
  {
   "cell_type": "code",
   "execution_count": 137,
   "metadata": {},
   "outputs": [],
   "source": [
    "use_idx = np.where(ypred1 < 0.15)[0]\n",
    "discard_idx = np.where(ypred1 >= 0.15)[0]\n",
    "\n",
    "Xnew = Xfold2[use_idx, :]\n",
    "ynew = yfold2[use_idx]\n",
    "\n",
    "Xdiscard = Xfold2[discard_idx, :]\n",
    "ydiscard = yfold2[discard_idx]\n",
    "ypred_discard = ypred1[discard_idx]"
   ]
  },
  {
   "cell_type": "code",
   "execution_count": 138,
   "metadata": {},
   "outputs": [],
   "source": [
    "class SamplingRegressor:\n",
    "    def __init__(self, data, ypred, base_estimator, nsample=200):\n",
    "        self.nsample = nsample\n",
    "        self.clfs = [base_estimator for i in range(nsample)]\n",
    "        self.discarded = data\n",
    "        self.samples = [random.binomial(1, ypred) for i in range(nsample)]\n",
    "        self.X = None\n",
    "        self.y = []\n",
    "        \n",
    "    def fit(self, X, y):\n",
    "        self.X = np.vstack([X, self.discarded])\n",
    "        self.y = [np.hstack([y, s]) for s in self.samples]\n",
    "        for i, clf in enumerate(self.clfs):\n",
    "            clf.fit(self.X, self.y[i])\n",
    "            percentage = (i+1) / self.nsample * 100\n",
    "            sys.stdout.write(f\"\\r{percentage:.2f} percent finished\")\n",
    "        print()\n",
    "            \n",
    "    def predict(self, X):\n",
    "        preds = np.zeros(X.shape[0])\n",
    "        for clf in self.clfs:\n",
    "            preds += clf.predict(X)\n",
    "        return preds / self.nsample\n",
    "        "
   ]
  },
  {
   "cell_type": "code",
   "execution_count": 139,
   "metadata": {},
   "outputs": [
    {
     "name": "stdout",
     "output_type": "stream",
     "text": [
      "100.00 percent finished\n",
      "Fit finished\n",
      "AUC:  0.6513131247988897\n"
     ]
    }
   ],
   "source": [
    "rf = RandomForestRegressor(max_depth=5, n_estimators=100, n_jobs=-1)\n",
    "sr = SamplingRegressor(Xdiscard, ypred_discard, rf, 1000)\n",
    "sr.fit(Xnew, ynew)\n",
    "print(\"Fit finished\")\n",
    "ypred2 = sr.predict(Xfold3)\n",
    "auc2 = roc_auc_score(yfold3, ypred2)\n",
    "print(\"AUC: \", auc2)"
   ]
  },
  {
   "cell_type": "code",
   "execution_count": 140,
   "metadata": {},
   "outputs": [
    {
     "name": "stdout",
     "output_type": "stream",
     "text": [
      "AUC:  0.6497322269641183\n"
     ]
    }
   ],
   "source": [
    "rf = RandomForestRegressor(max_depth=5, n_estimators=100, n_jobs=-1)\n",
    "rf.fit(Xnew, ynew)\n",
    "ypred3 = rf.predict(Xfold3)\n",
    "auc3 = roc_auc_score(yfold3, ypred3)\n",
    "print(\"AUC: \", auc3)"
   ]
  },
  {
   "cell_type": "code",
   "execution_count": 142,
   "metadata": {},
   "outputs": [
    {
     "name": "stdout",
     "output_type": "stream",
     "text": [
      "AUC:  0.6531068380273901\n"
     ]
    }
   ],
   "source": [
    "rf2 = RandomForestRegressor(max_depth=5, n_estimators=100, n_jobs=-1)\n",
    "rf2.fit(Xfold2, yfold2)\n",
    "ypred4 = rf2.predict(Xfold3)\n",
    "auc4 = roc_auc_score(yfold3, ypred4)\n",
    "print(\"AUC: \", auc4)"
   ]
  },
  {
   "cell_type": "code",
   "execution_count": 160,
   "metadata": {},
   "outputs": [
    {
     "data": {
      "text/plain": [
       "array([ True,  True,  True,  True,  True,  True,  True,  True,  True,\n",
       "        True,  True,  True,  True,  True,  True,  True,  True,  True,\n",
       "        True,  True,  True,  True,  True,  True,  True,  True,  True,\n",
       "        True,  True,  True,  True,  True,  True,  True,  True,  True,\n",
       "        True,  True,  True,  True,  True,  True,  True,  True,  True,\n",
       "        True,  True,  True,  True,  True,  True,  True,  True,  True,\n",
       "        True,  True,  True,  True,  True,  True,  True,  True, False,\n",
       "        True,  True,  True,  True,  True,  True,  True,  True,  True,\n",
       "        True,  True,  True, False,  True,  True,  True,  True,  True,\n",
       "        True,  True,  True,  True,  True,  True,  True,  True,  True,\n",
       "        True,  True,  True,  True,  True,  True,  True,  True,  True,\n",
       "        True,  True,  True,  True,  True,  True,  True,  True,  True,\n",
       "        True,  True,  True,  True,  True,  True,  True,  True,  True,\n",
       "        True, False,  True,  True,  True,  True,  True,  True,  True,\n",
       "        True,  True,  True,  True,  True,  True,  True,  True,  True,\n",
       "        True,  True,  True,  True,  True,  True,  True,  True,  True,\n",
       "        True,  True,  True,  True,  True,  True,  True,  True,  True,\n",
       "        True,  True,  True,  True,  True,  True,  True,  True,  True,\n",
       "        True,  True,  True,  True,  True,  True,  True,  True,  True,\n",
       "        True,  True,  True,  True,  True,  True,  True,  True,  True,\n",
       "        True,  True,  True,  True,  True,  True,  True,  True,  True,\n",
       "        True,  True,  True,  True,  True,  True,  True,  True,  True,\n",
       "        True,  True,  True,  True,  True,  True,  True,  True,  True,\n",
       "        True,  True,  True,  True,  True,  True,  True,  True,  True,\n",
       "        True,  True,  True,  True,  True,  True,  True,  True,  True,\n",
       "        True,  True,  True,  True,  True,  True,  True,  True,  True,\n",
       "        True,  True,  True,  True,  True,  True,  True,  True,  True,\n",
       "        True,  True,  True,  True,  True,  True,  True,  True,  True,\n",
       "        True,  True,  True,  True,  True,  True,  True,  True,  True,\n",
       "        True,  True,  True,  True,  True,  True,  True,  True,  True,\n",
       "        True,  True,  True,  True,  True,  True,  True,  True,  True,\n",
       "        True,  True,  True,  True,  True,  True,  True,  True,  True,\n",
       "        True,  True,  True,  True,  True,  True,  True,  True,  True,\n",
       "        True,  True,  True,  True,  True,  True,  True,  True,  True,\n",
       "        True,  True,  True,  True,  True,  True,  True,  True,  True,\n",
       "        True,  True,  True,  True,  True,  True,  True,  True,  True,\n",
       "        True,  True,  True,  True,  True,  True,  True,  True,  True,\n",
       "        True,  True,  True,  True,  True,  True,  True,  True,  True,\n",
       "        True,  True,  True,  True,  True,  True,  True,  True,  True,\n",
       "        True,  True,  True,  True,  True,  True,  True,  True,  True,\n",
       "        True,  True,  True,  True,  True,  True,  True,  True,  True,\n",
       "        True,  True,  True,  True,  True,  True,  True,  True,  True,\n",
       "        True,  True,  True,  True,  True,  True,  True,  True,  True,\n",
       "        True,  True,  True,  True,  True,  True,  True,  True,  True,\n",
       "        True,  True,  True,  True,  True,  True,  True,  True,  True,\n",
       "        True,  True,  True,  True,  True,  True,  True, False,  True,\n",
       "        True,  True,  True,  True,  True,  True,  True,  True,  True,\n",
       "        True,  True,  True,  True,  True, False,  True,  True,  True,\n",
       "        True,  True,  True,  True,  True,  True])"
      ]
     },
     "execution_count": 160,
     "metadata": {},
     "output_type": "execute_result"
    }
   ],
   "source": [
    "idx = np.where(ypred4 - ypred3 > 0.1)[0]\n",
    "ypred3[idx] < 0.15"
   ]
  },
  {
   "cell_type": "code",
   "execution_count": 154,
   "metadata": {},
   "outputs": [
    {
     "data": {
      "text/plain": [
       "0.9885844748858448"
      ]
     },
     "execution_count": 154,
     "metadata": {},
     "output_type": "execute_result"
    }
   ],
   "source": [
    "(ypred2[np.where(ypred4 - ypred3 > 0.1)[0]] > 0.15).mean()"
   ]
  },
  {
   "cell_type": "code",
   "execution_count": 164,
   "metadata": {},
   "outputs": [],
   "source": [
    "fpr_v, tpr_v, thresholds_v = roc_curve(yfold3, ypred4)\n",
    "fpr_1, tpr_1, thresholds_1 = roc_curve(yfold3, ypred3)\n",
    "fpr_2, tpr_2, thresholds_2 = roc_curve(yfold3, ypred2)\n",
    "plt.figure()\n",
    "plt.title(\"ROC Curve\")\n",
    "plt.xlabel(\"False Positive Rate\")\n",
    "plt.ylabel(\"True Positive Rate\")\n",
    "plt.plot(fpr_v, tpr_v, color=\"red\", label=\"Validation Model\")\n",
    "plt.plot(fpr_1, tpr_1, color=\"blue\", label=\"New Model1\")\n",
    "plt.plot(fpr_2, tpr_2, color=\"green\", label=\"New Model2\")\n",
    "plt.legend()\n",
    "plt.xlim(0.0, 1.0)\n",
    "plt.ylim(0.0, 1.0)\n",
    "plt.grid(True)\n",
    "plt.savefig(\"GCI Final Report_files/ROC_CURVE.png\")"
   ]
  },
  {
   "cell_type": "code",
   "execution_count": null,
   "metadata": {},
   "outputs": [],
   "source": []
  }
 ],
 "metadata": {
  "kernelspec": {
   "display_name": "Python 3",
   "language": "python",
   "name": "python3"
  },
  "language_info": {
   "codemirror_mode": {
    "name": "ipython",
    "version": 3
   },
   "file_extension": ".py",
   "mimetype": "text/x-python",
   "name": "python",
   "nbconvert_exporter": "python",
   "pygments_lexer": "ipython3",
   "version": "3.6.3"
  }
 },
 "nbformat": 4,
 "nbformat_minor": 2
}
