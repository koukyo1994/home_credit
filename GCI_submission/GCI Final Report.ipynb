{
 "cells": [
  {
   "cell_type": "raw",
   "metadata": {},
   "source": [
    "\\begin{abstract}\n",
    "本稿は、現在Kaggleにおいて行われているHome Credit GroupのDefault Riskを評価するコンペティションHome-Credit-Default-Riskに絡めて\n",
    "Home Creditグループにとってより価値の高いクレジットスコアリングモデルを提案するものである。本稿は、背景・導入、仮説・評価、価値提案の3つのセクションから構成される。最初に背景・導入の章においては、クレジットスコアリングモデルの意義やその歴史的背景、そして現在における構築の手順と構築にまつわる課題を提示する。続く仮説・評価の章においてはHome Credot Groupにおけるクレジットスコアリングモデル構築の取り組みやHome Credit Groupが抱えている課題、Home Credit GroupがKaggleのコンペティションに主催者として参加するに至った経緯に関して断片的な情報から仮説構築を試み、その課題を解決するモデルの構築を行う。また、そのモデルを仮説に基づいて選択された評価手段によって評価する。最後の価値提案の章においては提案するモデルが持つ価値をHome Credit Groupにもたらす影響から概算し、既存の信用機関におけるクレジットスコアリングモデルの構築の費用などを参照したうえで価格提示を行う。\n",
    "\\end{abstract}"
   ]
  },
  {
   "cell_type": "markdown",
   "metadata": {},
   "source": [
    "# 背景・導入\n",
    "## クレジットスコアリングの意義"
   ]
  },
  {
   "cell_type": "raw",
   "metadata": {},
   "source": [
    "銀行や信用機関における信用リスク管理業務は単なる貸出審査の効率化以上の意義があると考えられる。貸出業務は金融機関の業務の中でも大きな割合を占めるが、そこで重視されるのはリスクとリターンのバランスである。貸出にあたっての不確定性が大きく完全な資金回収を行うことができないことは大きな痛手となる一方で、確実性を求めて一部の優良な取引相手や確実な資金回収が見込まれる相手だけと取引をすることは、銀行・金融機関の利益にあまりつながらない。したがってその中間をとり、リスクとリターンがバランスするような点において取引をするか/しないかを定めるのは非常に重要と言える。この決定は一般には銀行・金融機関のリスク選好性によって変わるものであるが、その決定に大きな影響を及ぼすのが信用リスク管理である。\\\\\n",
    "\n",
    "信用リスクの管理は「貸出資産の損失可能性を事前に推算すること」と言い換えることもできるが\\cite{risk-management}、これにより貸出資産の価値を評価することができ、金融機関それ自体の健康状態を管理することができるともいえる。金融機関の健康状態の悪化はしばしば経済的な不安要因となり社会を大きく揺るがすことにもつながりかねない。近年では、米国に端を発した信用危機が世界的な経済不安を引き起こすなどの例もあったが、これも信用リスク管理の失敗によるものであり、この業務の重要性を端的に表した一例と言える。"
   ]
  },
  {
   "cell_type": "markdown",
   "metadata": {},
   "source": [
    "クレジットスコアリングは上記のような信用リスク管理業務のなかでも大きな重要度を持った業務である。信用リスクの推算は貸出を行った場合の予想損失(EL)の推算とも言い換えられるが、予想損失の構成パラメータは、デフォルト時貸出残高(EAD)、デフォルト率(PD)、デフォルト時損失率(LGD)の積として表される。式として表すと\n",
    "$$\n",
    "  EL = EAD \\times PD \\times LGD\n",
    "$$\n",
    "となる。このうちクレジットスコアリングが行うのはデフォルト率(PD)の推算である。この推算を誤ると、実際には大きなリスクを抱えている案件のリスクを過小評価してしまったり実際には優良な債務者に対して貸出を行わない、といった意思決定に繋がる恐れがあり非常に重要である。"
   ]
  },
  {
   "cell_type": "markdown",
   "metadata": {},
   "source": [
    "## クレジットスコアリングの歴史的背景"
   ]
  },
  {
   "cell_type": "raw",
   "metadata": {},
   "source": [
    "クレジットスコアリング自体の登場は非常に古く、1950年代に開発され始め1960年代に実用化されたと言われている\\cite{perspective}。これらは、登場当初は上述のような理由は主ではなくどちらかといえば現場の負担を軽減する目的で導入されたと言われているがその後急速に普及した。\\\\\n",
    "\n",
    "米国では過去数十年にわたってクレジットスコアリングが消費者の生活の非常に大きな部分を占めてきた経緯がある。クレジットスコアが生活に影響を与える範囲は広く、元々はローンの貸出などの指標として用いられていたものの、住宅の入居判断や就職などにおいてもクレジットスコアの良し悪しが関わってくるようになり現在では生活の多くの部分を支配し格差を固定化する要因の一つとなっているとも言われる。米国で普及するクレジットスコアリングは大きく3つの企業による指標が用いられることが多い。その3企業はTransUnion、Equifax、ExperianであるがこれらはFICOスコアという指標の計算方法をベースに独自のクレジットスコアの算出をしている\\cite{annuity}が大まかには以下のような内訳であると言われている。"
   ]
  },
  {
   "cell_type": "markdown",
   "metadata": {},
   "source": [
    "* 35%が過去の支払い履歴\n",
    "* 30%が現在の負債\n",
    "* 15%が信用履歴の長さ\n",
    "* 10%が最近の融資問い合わせ額\n",
    "* 10%がアカウントの種類/個数\n",
    "\n",
    "また、クレジットスコアを改善させるためのベストプラクティスといったものもよく伝え聞かれており以下のようなものが挙げられている。\n",
    "\n",
    "* クレジット限度額の65%-75%には手をつけないようにすること。多すぎるとリスクになり、少なすぎると信用機関にとって良くわからない人になる。\n",
    "* 昔のアカウントをcloseしないでopenなままにしておくこと、誘惑に負けてしまいそうならカードを捨てなさい。\n",
    "* 新規アカウント開設は控えめに。企業や貸し手が信用情報を参照するたびにクレジットスコアは下がります。\n",
    "* 延滞や延滞期限をできるだけ残さないようにすること。\n",
    "* 安易な解決策に飛びつかないように。詐欺の場合もあります。"
   ]
  },
  {
   "cell_type": "markdown",
   "metadata": {},
   "source": [
    "## 現在における構築の手順・課題"
   ]
  },
  {
   "cell_type": "markdown",
   "metadata": {},
   "source": [
    "クレジットスコアリングモデルは各金融機関の生命線であるため具体的なアルゴリズムや説明変数が公開されている例はあまり存在せず、断片的な情報を組み合わせて推測する必要がある。また、信用機関は目的に応じて複数のクレジットスコアリングモデルを使い分けていると考えられるため\\cite{fujitsu}、よく用いられていると考えられる手法をその背景などに着目しながら紹介する。また、クレジットスコアリングに用いられる説明変数はその国や地域における法規や産業構造の違いなどから異なる可能性が示唆される\\cite{kirill}。"
   ]
  },
  {
   "cell_type": "markdown",
   "metadata": {},
   "source": [
    "### クレジットスコアリングの手法"
   ]
  },
  {
   "cell_type": "markdown",
   "metadata": {},
   "source": [
    "現在のクレジットスコアリングはその用例に応じて複数の手法を使い分ける試みがなされていると考えられる\\cite{fujitsu}。以下はそれらについてと、その用法に関しての説明である。\n",
    "\n",
    "* スコアカード\n",
    "\n",
    "経験的な指標に基づきある条件を満たしているときは点数を加算することで、合計点数をクレジットスコアとするモデルである。例としては、勤続年数1年未満は10点、1-3年は30点、3-10年は50点、10年以上は70点と言った具合である\\cite{scorecard}。非常に単純な指標であるため理解は容易であるが、経験的な指標であるため意思決定の際の強い根拠とするには弱く、また現実の複雑な状況に即した判断にも使いづらいという難点が存在する。\n",
    "\n",
    "* 判別分析\n",
    "\n",
    "線形分離モデルを用いてデフォルト先と非デフォルト先をより良く区分する線を決定する手法である。線形手法であるため、複雑な境界を表現できないという点で現実の複雑な状況に即した判断には使いづらく、直感的な理解もスコアカードに比べると容易ではない。そのため、意思決定の際にも強い根拠として用いることが難しい。\n",
    "\n",
    "* ロジスティック回帰\n",
    "\n",
    "一般化線形モデルを用いてデフォルト確率を推算することができるため、意思決定においては使いやすい。一方で、表現力は線形判別分析とおよそ同程度である。直感的な理解のしやすさも判別分析と同程度と言える。\n",
    "\n",
    "* 決定木\n",
    "\n",
    "確率の推算にも用いることができるため意思決定においては使いやすい。非線形の決定境界を表現できる一方、過学習しやすいという欠点もあり複雑な状況に即した判断にはやや使いづらい。一方、判断の根拠を階層的な分岐で表現でき理解のしやすさは判別分析やロジスティック回帰よりよいといえる。\n",
    "\n",
    "* ニューラルネット\n",
    "\n",
    "中間層の複雑さを増すことでより複雑な境界を表現できる一方で、説明性に劣る面があるため、意思決定においても使いづらいという側面が存在する。\n",
    "\n",
    "* カーネルSVM\n",
    "\n",
    "カーネル関数を用いて高次元空間に特徴を写したうえで線形分離をする手法で、数年前までニューラルネット以上の成績を出すと言われていた一方、説明性に劣るため、意思決定の場では使いづらいという側面がある。\n",
    "\n",
    "* アンサンブル手法\n",
    "\n",
    "勾配ブースティングやニューラルネットと決定木のブレンディング・スタッキングなど、近年Kaggleなどのコンペティションにおいても隆盛を誇っている手法である。シングルモデル以上の成績を示すこともある一方で説明性は低く意思決定の場で決定打とはならないという現状があると考えられる。"
   ]
  },
  {
   "cell_type": "markdown",
   "metadata": {},
   "source": [
    "### 説明変数について"
   ]
  },
  {
   "cell_type": "raw",
   "metadata": {},
   "source": [
    "説明変数の選択に関しては、スコアリングの具体的なアルゴリズム以上に企業の秘密に関わるため、公開されている例はないが断片的な情報からおおよそどの企業も用いていそうな説明変数の推測は可能である。一方、その他の部分は企業ごとのスコアリングにおいて大きな特徴となりうる一方で推測は難しくその個数もスコアリングを行う企業によって異なることが予想される。説明変数の選択についてもアルゴリズムの選択同様、用途によって分けていると考えられるため、参照できる資料をもとに考察を行う。\\\\\n",
    "\n",
    "まず、説明変数の個数についてであるが、一般的に50以上になることはないようである\\cite{kirill}\\cite{perspective}。これは、説明変数の増大に伴いモデルの複雑さが増し、説明性の低下を招いたり保守管理のコストが増すといった側面があり、説明変数を増やすことによる表現力の向上との兼ね合いから考えてもこれ以上の数にはしづらいという背景が存在する。また、近年はビッグデータの活用などにより複雑なモデルに大量のデータを投入するようなPD推定の取り組みもあるものの、現状ではいくつかの\"スマートに\"加工された説明変数を用いることでPD推定を行う手法が主流であり、説明変数の個数のおおよその値としては9~50程度と見積もることができる\\cite{kirill}\\cite{mlit}。"
   ]
  },
  {
   "cell_type": "raw",
   "metadata": {},
   "source": [
    "説明変数の種類に関しては、各種金融機関に対する国土交通省住宅局の2011年の調査に挙げられたものを参考とした\\cite{mlit}。この調査では住宅ローン審査において金融機関が審査項目に入れることが多かった項目を項目別割合として結果にあげている。\n",
    "\n",
    "\\begin{table}[htbp]\n",
    "\\begin{center}\n",
    "  \\begin{tabular}{lr} \\hline\\hline\n",
    "    審査項目 & 回答数の割合 \\\\ \\hline\\hline\n",
    "    完済時年齢 & 91.90\\% \\\\\n",
    "    返済負担率 & 90.10\\% \\\\\n",
    "    借入時年齢 & 89.90\\% \\\\\n",
    "    勤続年数 & 88.50\\% \\\\\n",
    "    年収 & 88.10\\% \\\\\n",
    "    健康状態 & 88.10\\% \\\\\n",
    "    担保評価 & 85.90\\% \\\\\n",
    "    連帯保証 & 85.10\\% \\\\\n",
    "    債務状況・返済状況 & 84.90\\% \\\\\n",
    "    融資可能額(購入時) & 84.70\\% \\\\\n",
    "    融資可能額(借り入れ時) & 83.30\\% \\\\\n",
    "    金融機関の営業エリア & 80.20\\% \\\\\n",
    "    雇用形態 & 63.10\\% \\\\\n",
    "    申込人との取引状況 & 59.70\\% \\\\\n",
    "    国籍 & 47.60\\% \\\\\n",
    "    業種 & 40.20\\% \\\\\n",
    "    雇用先の規模 & 26.60\\% \\\\\n",
    "    家族構成 & 26.00\\% \\\\\n",
    "    所有資産 & 22.70\\% \\\\\n",
    "    性別 & 16.50\\% \\\\\n",
    "    その他 & 9.70\\% \\\\\n",
    "  \\end{tabular}\n",
    "  \\caption{住宅ローン審査において民間金融機関が重視する項目}\n",
    "\\end{center}\n",
    "\\end{table}\n"
   ]
  },
  {
   "cell_type": "raw",
   "metadata": {},
   "source": [
    "また、\\cite{stepwisebayse}などでは、変数選択により(1)「勤続年数」(2)「自己資本比率」(3)「合算年収倍率」(4)「借入期間」(5)「事業主フラグ」(6)「小企業フラグ」(7)「中企業フラグ」(8)「地域別CI成長率」(9)「地域別失業率」の9変数に絞ってPD推定を行っている。いずれにしても、生活基盤の安定性などを評価する指標(勤続年数・年収・雇用先規模・業種・健康状態など)、過去の信用情報履歴(債務状況・返済状況、自己資本比率)、将来性(完済時年齢、借入時年齢、借入期間)などを説明変数に取り入れている一方で、コンプライアンス上問題になりかねない説明変数(家族構成・性別・国籍など)は審査項目として使われづらい傾向があると考えられる。"
   ]
  },
  {
   "cell_type": "markdown",
   "metadata": {},
   "source": [
    "### 金融機関の抱える課題"
   ]
  },
  {
   "cell_type": "markdown",
   "metadata": {},
   "source": [
    "クレジットスコアリングに関連して金融機関が抱える課題はいくつかに分けられる\\cite{fujitsu}。\n",
    "\n",
    "* モデルが複雑なため、作成過程や計算過程がブラックボックス化してしまう\n",
    "* モデルの精度に不安があり、モデルの見直しの必要がある\n",
    "* モデルの見直しのたびに、コンサルティングやシステム改修の費用がかかる\n",
    "\n",
    "といったことが挙げられている。これらに関して金融機関により挙げられている対策は以下のようになる。\n",
    "\n",
    "* 研修の実施\n",
    "* 運用目的にあわせて複雑さと説明性のトレードオフを考慮したモデルの再構築\n",
    "* 最新の機械学習手法の利用\n",
    "* テンプレートの利用\n",
    "\n",
    "また、この他に\\cite{kirill}などに挙げられている、詐欺のリスクも大きな課題となっているようである。詐欺を試みる者は虚偽の申告をする場合も多く、データには現れづらいと考えられる。"
   ]
  },
  {
   "cell_type": "markdown",
   "metadata": {},
   "source": [
    "# 仮説・評価\n",
    "## Home Credit Groupにおけるクレジットスコアリングモデル構築の取り組み"
   ]
  },
  {
   "cell_type": "markdown",
   "metadata": {},
   "source": [
    "Home Credit GroupにおけるクレジットスコアリングはKaggleのコンペティションのディスカッションにおいて主催者であるKirill Odintsov氏が語っている内容から部分的に推察できる\\cite{kirill}。以下はそれらのディスカッションの内容を要約したものである。\n",
    "\n",
    "* AUC 0.77は現行のモデルよりはやや低いが抜かれるのは時間の問題である。それは、ビジネスにおける制約上用いることが出来ないデータを今回のコンペティションでは数多く用意しているからである。\n",
    "* Home Credit Groupにおいて用いられているモデルはロジスティック回帰や決定木などの単純なものもあるし、より高度なXGBなどの勾配ブースティング法やニューラルネットを使ったものも存在する。\n",
    "* 既に多くの融資を受けている人にお金を貸すことは企業としては利益になると考えられるので積極的に行うべきことであるが、顧客を過剰に借金を抱えた状態にしてしまう可能性があるのでPDが小さいと予測されていたとしても避けたいことである。\n",
    "* 100以上の特徴を加えてモニタリングするよりも、50くらいの特徴でやや低いくらいの精度を出せるほうが良い。\n",
    "* 最終的にはより簡単なモデルを使うにしても一度は複雑なモデルを試すことを行っている。\n",
    "* モデルの再構築時には古いモデルを通ってきた母集団で学習を行うため、そこには含まれていなかったような人が新規申し込みをしたとして本来は落とされるべきであるにもかかわらず審査を通過してしまう可能性があり大きな問題となっている。\n",
    "* 実際のモデルでは、性別・結婚状態・子供の数など、コンプライアンス的に使えない変数がある。\n",
    "* その時点での景気などの情報を使えば推論の精度は良くなるがそれは入れられない。\n",
    "* Home Credit Groupのデータサイエンスチームが用意しているモデルは多数ある。\n",
    "  1. 顧客が最適なローン額を選ぶのを助けるモデル \n",
    "  2. 抱えているリスクから利子率を算出するモデル \n",
    "  3. データの収集戦略を最適化するモデル \n",
    "  4. ローンの提案をするモデル \n",
    "  5. 大規模な詐欺行為を調査するモデル \n",
    "  6. 顧客のクレジットカード制限の増減を決めるモデル\n",
    "* ローンの契約は国や地域によって異なると考えられる(法的要請や産業構造の違いなどから)。応募用フォームは確かに異なるが現在データサイエンスチームが国ごとに大きく異ならないようにしているところである。\n",
    "* 今回、Kaggleでコンペティションを開催したのは実際の業務において用いるためではなく、Kagglerのデータ分析のやり方などを見るためである。"
   ]
  },
  {
   "cell_type": "markdown",
   "metadata": {},
   "source": [
    "## Home Credit Groupがコンペティション主催に至った理由"
   ]
  },
  {
   "cell_type": "markdown",
   "metadata": {},
   "source": [
    "Home Credit Groupがコンペティションに求めているものは上述の通り、Kagglerのデータ分析のやり方そのものであり、実際の業務を改善させるようなモデルではないと考えられる。しかし、データ分析のやり方が求めるものだったとして、そのやり方を学ぶことで業務を改善させるようなことができると考えているからこそ総額\\$ 70,000の賞金を設定するほど大きなコンペティションを開催する事になったと考えられる。すなわち、Home Credit Groupではデータ分析業務やリスク管理業務そのものが問題となっているという仮説が建てられる。言い換えれば、スコアリングのモデルの精度が低いといった問題というよりも、スコアリングのモデルの作成の仕方などが問題となっていると考えることができる。"
   ]
  },
  {
   "cell_type": "markdown",
   "metadata": {},
   "source": [
    "この観点でKirill氏のディスカッションにおける発言を見直すと、モデルの作成に絡めて大きな課題意識を持っていることが伺える発言をしていることがわかる。\n",
    "\n",
    "> We rebuild our models quite often. Every time we rebuild a model we can do it only on approved clients by the old model (we have no target for rejected clients). When we implement new model we stop using the old one, but the new model can start approving people who previously would be rejected by the old model not because they are good but simply because the new model did not learn that they are bad because they were not in the dataset for the new model. So for example if your old model would see that the people with \"characteristic A\" are really bad it would reject almost all of them - only those with best other characteristic would have a chance to be approved. The next model you will build on clients approved by the old model. Thus you would have small amount of people with \"characteristic A\" and they would not seem so bad, but in reality they are you just can't observe it in the data because the old model took only the best ones with \"characteristic A\".\n",
    "\n",
    "これに絡めた発言を同氏は複数回しており、この問題を解決するのは非常に難しいということを認めている。これらの発言をまとめると、Home Credit Groupが抱えている課題意識は以下のようになる。\n",
    "\n",
    "* モデルを再構築する際に、モデルの学習に使うデータは古いモデルによる予測を元に与信をすると意思決定した人たちのものである。\n",
    "* 古いモデルが与信をしないと選択した対象は何らかの特徴が悪かったために落とされたと考えられるが、新しいモデルを学習させるのに使うデータにはそれらの特徴が\"悪い\"とされるようなデータは含まれていないか、含まれていたとしてもその他の特徴が\"良い\"とされたために審査を通過した人たちである。\n",
    "* このようなデータで学習を行った場合、前回の審査では落とされてしまったような人も新しいモデルによる審査は通過する可能性がある。\n",
    "* なぜならば、前回の審査で申込者を落とすのに主要な役割を果たした特徴に関して、新しいモデルの学習用データには圧倒的に偏りが生じているためである。\n",
    "\n",
    "この他の点に関しても、Home Credit Groupはいくつかの課題を抱えていると考えられるが、大きなものとしてはこの点に尽きると考えられる。"
   ]
  },
  {
   "cell_type": "markdown",
   "metadata": {},
   "source": [
    "## 課題を解決するアイデア"
   ]
  },
  {
   "cell_type": "markdown",
   "metadata": {},
   "source": [
    "Home Credit Groupの抱える課題は上述の通りであるが、これを解決するのはKirill氏のいうように簡単な話ではない。しかし、いくつか解決に繋がりそうなアイデアは挙げられる。\n",
    "\n",
    "1. 新しいモデルの学習において、古いモデルによって審査落ちしてしまった対象群に関しても学習データとして用いる。その際、そのようなデータに関してはターゲット変数がデフォルト(今回であれば1)であるとして扱う。\n",
    "2. モデルの説明性を良くし、審査に落ちた人に関してその審査に関する支配的な特徴を特定できるようにする。審査を段階的なステップを踏むことにより、1段回目の審査で古いモデルで落ちてしまうような特徴を持つ人をふるい落とし、2段階目で新しいモデルを用いた審査を行う。モデルが更新されるごとにステップを増やす。\n",
    "3. スコアリングモデルへの依存度を下げ、あくまでシグナルを出す程度のものに留める。すなわち最終的な審査は人手で行う。\n",
    "4. スコアリングモデル自体は人間が確認できる程度の複雑さにし、機械による選別と人間による選別の2段階審査を行う。3のアイデアに近いが、機械的な作業の割合の問題である。\n",
    "5. 1と2の折衷案として、古いモデルにおいて審査において落とすと決定したときの支配的要因を特定し、学習用データにおいてそのような特徴が\"悪い\"とされるデータを人工的に創りだす。この際、その人工データに関してはターゲット変数をデフォルトであるとして扱う。"
   ]
  },
  {
   "cell_type": "markdown",
   "metadata": {},
   "source": [
    "上記のアイデアには当然のことながら長所もあれば短所も存在する。今回は特に短所を挙げていく。\n",
    "\n",
    "* 新しいモデルの学習において、古いモデルによって審査落ちしてしまった対象群に関しても学習データとして用いる。その際、そのようなデータに関してはターゲット変数がデフォルト(今回であれば1)であるとして扱う。\n",
    "\n",
    "古いモデルによって審査落ちしてしまった対象群は実のところ2通り存在すると考えられる。すなわち、PDが高いという予測が立った人たちである可能性と、リスクとリターンのバランスを考慮した時にPDはそれほど高くないものの、その他の要素を考慮した際に魅力的な申込者と判断されなかった可能性が考えられる。これらを一緒くたに扱ってしまうと、PDを予測するモデルにPDはそれほど悪くなかったデータまで混入することになり精度の悪化を招いてしまう。\n",
    "\n",
    "* モデルの説明性を良くし、審査に落ちた人に関してその審査に関する支配的な特徴を特定できるようにする。審査を段階的なステップを踏むことにより、1段回目の審査で古いモデルで落ちてしまうような特徴を持つ人をふるい落とし、2段階目で新しいモデルを用いた審査を行う。モデルが更新されるごとにステップを増やす。\n",
    "\n",
    "多段階モデルの欠点は二点ある。1つはそもそも古いモデルを使っている点にある。モデルを更新する必要があったということは、古いモデルに何らかの欠陥が存在した可能性もあるため、そのようなモデルを一段階目で使用するのはデータの分布をゆがめかねず危険である。また、モデルの更新のたびに新しいステップが増えるためモデルの複雑性が増大していってしまう点にある。結果としてモデルの管理コストやヒューマンエラーのリスクが増大することにつながりかねない。\n",
    "\n",
    "* スコアリングモデルへの依存度を下げ、あくまでシグナルを出す程度のものに留める。すなわち最終的な審査は人手で行う。\n",
    "\n",
    "人間による審査は負担を増大させヒューマンエラーの危険性を飛躍的に増大させるほか、人件費の増加も招くことになりスコアリングの取り組みに関しては大きく逆行することになる。\n",
    "\n",
    "* スコアリングモデル自体は人間が確認できる程度の複雑さにし、機械による選別と人間による選別の2段階審査を行う。3のアイデアに近いが、機械的な作業の割合の問題である。\n",
    "\n",
    "機械に扱えるデータの複雑さに制限をかけすぎてしまい、人間への負担が大きくなることが考えられる。最終的な判断はしばらくは人間に委ねられ続けるにしろ、やはりスコアリングの取り組みに逆行するアイデアである。\n",
    "\n",
    "* 1と2の折衷案として、古いモデルにおいて審査において落とすと決定したときの支配的要因を特定し、学習用データにおいてそのような特徴が\"悪い\"とされるデータを人工的に創りだす。この際、その人工データに関してはターゲット変数をデフォルトであるとして扱う。\n",
    "\n",
    "1つの特徴だけではなく、複数の特徴が複合的に影響して\"悪い\"という評価を作っていた場合に人工データの生成時に漏れが生じる可能性がある。"
   ]
  },
  {
   "cell_type": "markdown",
   "metadata": {},
   "source": [
    "## 提案する解決策"
   ]
  },
  {
   "cell_type": "markdown",
   "metadata": {},
   "source": [
    "以上の考察を踏まえたときに案1は改善の余地があるように思われる。つまり古いモデルにおいてPDが高いとされて審査落ちしたグループについてそのデータを学習に用いることが挙げられる。ただしこの群に関して一律に目的変数がデフォルト(1)であるとして学習を行うとデータの分布を損なってしまうため、サンプリングなどを用いて適切に評価する必要がある。したがって今回提案する解決策は以下のようなものである。\n",
    "\n",
    "* 古いモデルにおいてPDが高いとされたレコードについては、新しいモデルの学習時にも用いる。\n",
    "* 古いモデルにおいてPDが高いとされたレコードを新しいモデルの学習データとして用いるときは、古いモデルの予測PDに従いサンプリングを行いサンプリングされたデータを古いモデルにおいてもPDは低いとされていたデータと結合して用いる\n",
    "\n",
    "この方法でも、古いモデルに依存した部分が出てきてしまうため、\n",
    "> モデルを更新する必要があったということは、古いモデルに何らかの欠陥が存在した可能性もあるため、そのようなモデルを一段階目で使用するのはデータの分布をゆがめかねず危険である。\n",
    "\n",
    "この指摘に関しては対応できていない。"
   ]
  },
  {
   "cell_type": "markdown",
   "metadata": {},
   "source": [
    "## 実験\n",
    "\n",
    "以上の議論を踏まえ、提案手法の性能を評価する実験を行った。データセットに関しては、今回Home Credit Groupから、Kaggleのコンペティション用に提供されているデータのうち、ターゲット変数が明らかになっているapplication_trainを用いた。また、その他の外部リソースや過去の申し込み情報などは今回の「提案手法の評価」という点では必要ないため、使用しなかった。また、説明変数も今回は提案手法とそれを用いなかった場合の差分を見るためだけのため、9個程度に絞って行った。変数の選択に関しては、LightGBMを用いたモデル\\cite{LGBM}による変数重要度と\\cite{stepwisebayse}に挙げられた変数などを参考に、\n",
    "\n",
    "1. DAYS_EMPLOYED(勤続年数)\n",
    "2. AMT_CREDIT/AMT_INCOME_TOTAL(自己資本比率に類似)\n",
    "3. AMT_CREDIT/AMT_GOODS_PRICE\n",
    "4. AMT_CREDIT/AMT_ANNUITY(借入期間に類似)\n",
    "5. REGION_POPULATION_RELATIVE(Target Encodingをして地域別のデフォルト率指標とする)\n",
    "6. DAYS_BIRTH\n",
    "7. DAYS_EMPLOYED/DAYS_BIRTH\n",
    "8. DAYS_ID_PUBLISH\n",
    "9. ORGANIZATION_TYPE(Target Encodingにより職種別デフォルト率指標とする)\n",
    "\n",
    "今回はあえてEXT_SOURCE_とついた指標については用いなかった。\n",
    "\n",
    "データセットについては、古いモデルの学習用データ、古いモデルにより分類されるデータ(新しいモデルの学習データにもなる)、提案手法の性能確認用データの3つに分けた。全体の流れとしては以下の通りである。\n",
    "\n",
    "1. application_trainのデータから9変数を抽出し、3つのグループに分類する。それぞれfold1, fold2, fold3とする。\n",
    "2. Old Modelをfold1データで学習させる。今回はモデルとしてRandomForestRegressorを用いる。\n",
    "3. Old Modelでfold2データに関してPDの予測を行う。予測されたPDに関して閾値以上であったデータは審査落ちデータとして扱う。\n",
    "4. New Model1に関して、審査落ちデータは用いずに学習を行う。これは現状Home Credit Groupで行われている取り組みに対応する。New Model1もRandomForestRegressorとする。\n",
    "5. 審査落ちデータに関してはステップ3で予測されたPDをもとにサンプリングを行い審査落ちデータが審査を通っていたと仮定した場合のデータセットを生成する。なお、サンプリングの個数はハイパーパラメータとなる。\n",
    "6. ステップ3で審査を通過したデータについてはfold2のtargetをそのまま、審査落ちとされたデータについては5でサンプリングをした結果をtargetとして用いる。これによりサンプリングの回数分のデータセットが作成される。\n",
    "7. New Model2に関して、6で作成したデータセットで学習を行う。この際にサンプリングの回数分の回帰木を作成する。モデルは4で用いたものと同じとする。\n",
    "8. New Model1、New Model2に関してfold3のデータで検証を行う。"
   ]
  },
  {
   "cell_type": "markdown",
   "metadata": {},
   "source": [
    "## 評価に関して"
   ]
  },
  {
   "cell_type": "markdown",
   "metadata": {},
   "source": [
    "クレジットスコアリングのモデルの評価においてよく用いられるのは、AR(Accuracy Ratio)と呼ばれる指標の様である\\cite{risk-management}。これは、序列性能を図る指標でありほとんど、ROC-AUCと等価である。しかし、今回は序列性能が目的というよりは、New Modelの学習時に学習用データセットに、前のモデルでPDが高いとされた群を含むことで、新規加入者のうち前のモデルでは落とされてしまったような人が入り込むことを防ぐのが目的である。\n",
    "\n",
    "したがって今回の実装においては評価は、以下のような方法で行う。\n",
    "\n",
    "1. fold2データ全体を用いて学習したモデルでfold3データを予測する。pred3と呼ぶことにする。\n",
    "2. New Model1(審査落ちデータを含まない)のfold3データに関する予測をpred1とする。\n",
    "3. New Model2(提案手法)のfold3データに関する予測をpred2とする。\n",
    "4. pred3とpred2の差分が大きいデータ(すなわち審査落ちデータを用いなかったことによってPDの予測を誤ったことに相当する)に関してpred1が一定の割合以上のPDを予測できていた割合を計算する。"
   ]
  },
  {
   "cell_type": "markdown",
   "metadata": {},
   "source": [
    "## 実装"
   ]
  },
  {
   "cell_type": "markdown",
   "metadata": {},
   "source": [
    "\n",
    "``` python\n",
    "import numpy as np\n",
    "import pandas as pd\n",
    "import matplotlib.pyplot as plt\n",
    "import seaborn as sns\n",
    "import sys\n",
    "from sklearn.model_selection import StratifiedKFold\n",
    "from sklearn.ensemble import RandomForestRegressor\n",
    "import numpy.random as random\n",
    "```\n"
   ]
  },
  {
   "cell_type": "markdown",
   "metadata": {},
   "source": [
    "### Step 1 データの整形"
   ]
  },
  {
   "cell_type": "markdown",
   "metadata": {},
   "source": [
    "```python\n",
    "class TargetEncoder:\n",
    "    def __init__(self):\n",
    "        self.encoder = None\n",
    "        \n",
    "    def fit(self, cat, target):\n",
    "        colname_cat = cat.name\n",
    "        colname_target = target.name\n",
    "        \n",
    "        concat = pd.concat([cat, target], axis=1)\n",
    "        self.encoder = concat.groupby(colname_cat)[colname_target].mean()\n",
    "    \n",
    "    def transform(self, cat):\n",
    "        target = cat.map(self.encoder)\n",
    "        return target\n",
    "    \n",
    "    def fit_transform(self, cat, target):\n",
    "        self.fit(cat, target)\n",
    "        encoded = self.transform(cat)\n",
    "        return encoded\n",
    "\n",
    "df_path = \"../data/application_train.csv\"\n",
    "df = pd.read_csv(df_path)\n",
    "df = df.dropna(subset=[\"AMT_GOODS_PRICE\", \"AMT_ANNUITY\"])\n",
    "\n",
    "df[\"DAYS_EMPLOYED\"] = df[\"DAYS_EMPLOYED\"].map(lambda x:x if x != 365243 else 0)\n",
    "df[\"CREDIT_INCOME_RATIO\"] = df[\"AMT_CREDIT\"] / df[\"AMT_INCOME_TOTAL\"]\n",
    "df[\"CREDIT_GOODS_RATIO\"] = df[\"AMT_CREDIT\"] / df[\"AMT_GOODS_PRICE\"]\n",
    "df[\"CREDIT_ANNUITY_RATIO\"] = df[\"AMT_CREDIT\"] / df[\"AMT_ANNUITY\"]\n",
    "df[\"EMPLOYED_BIRTH_RATIO\"] = df[\"DAYS_EMPLOYED\"] / df[\"DAYS_BIRTH\"]\n",
    "\n",
    "te = TargetEncoder()\n",
    "df[\"REGION_TARGET_ENCODED\"] = te.fit_transform(\n",
    "    df[\"REGION_POPULATION_RELATIVE\"], df[\"TARGET\"])\n",
    "df[\"ORGANIZATION_TARGET_ENCODED\"] = te.fit_transform(\n",
    "    df[\"ORGANIZATION_TYPE\"], df[\"TARGET\"])\n",
    "\n",
    "columns_to_use = [\"DAYS_EMPLOYED\", \"CREDIT_INCOME_RATIO\", \"CREDIT_GOODS_RATIO\",\n",
    "                  \"CREDIT_ANNUITY_RATIO\", \"REGION_TARGET_ENCODED\",\n",
    "                  \"DAYS_BIRTH\", \"EMPLOYED_BIRTH_RATIO\",\n",
    "                  \"DAYS_ID_PUBLISH\", \"ORGANIZATION_TARGET_ENCODED\"]\n",
    "\n",
    "X = df[columns_to_use].values\n",
    "y = df[\"TARGET\"].values\n",
    "\n",
    "skf = StratifiedKFold(n_splits=3)\n",
    "for train_idx, test_idx in skf.split(X, y):\n",
    "    train_tmp = X[train_idx]\n",
    "    y_train_tmp = y[train_idx]\n",
    "    Xfold3 = X[test_idx]\n",
    "    yfold3 = y[test_idx]\n",
    "    \n",
    "skf2 = StratifiedKFold(n_splits=2)\n",
    "for train_idx, test_idx in skf2.split(train_tmp, y_train_tmp):\n",
    "    Xfold1 = train_tmp[train_idx]\n",
    "    yfold1 = y_train_tmp[train_idx]\n",
    "    Xfold2 = train_tmp[test_idx]\n",
    "    yfold2 = y_train_tmp[test_idx]\n",
    "```"
   ]
  },
  {
   "cell_type": "markdown",
   "metadata": {},
   "source": [
    "Xfold1, Xfold2, Xfold3がそれぞれfold1, fold2, fold3データに対応しyfold1, yfold2, fold3はそれらのターゲット変数である。"
   ]
  },
  {
   "cell_type": "markdown",
   "metadata": {},
   "source": [
    "### Step 2 Old Modelの学習"
   ]
  },
  {
   "cell_type": "markdown",
   "metadata": {},
   "source": [
    "```python\n",
    "old_model = RandomForestRegressor(max_depth=5, n_estimators=100, n_jobs=-1)\n",
    "old_model.fit(Xfold1, yfold1)\n",
    "```"
   ]
  },
  {
   "cell_type": "markdown",
   "metadata": {},
   "source": [
    "### Step 3 Old ModelによるPD予測"
   ]
  },
  {
   "cell_type": "markdown",
   "metadata": {},
   "source": [
    "```python\n",
    "ypred_old = old_model.predict(Xfold2)\n",
    "plt.hist(ypred_old, bins=100)\n",
    "plt.xlabel(\"Estimated Probability of Default\")\n",
    "plt.ylabel(\"Number of records\")\n",
    "plt.show()\n",
    "```"
   ]
  },
  {
   "cell_type": "raw",
   "metadata": {},
   "source": [
    "\\begin{figure}[htbp]\n",
    "  \\begin{center}\n",
    "    \\includegraphics[clip, scale=0.80]{./hist.eps}\n",
    "  \\end{center}\n",
    "\\end{figure}"
   ]
  },
  {
   "cell_type": "markdown",
   "metadata": {},
   "source": [
    "```python\n",
    "use_idx = np.where(ypred_old < 0.15)[0]\n",
    "discard_idx = np.where(ypred_old >= 0.15)[0]\n",
    "\n",
    "Xnew = Xfold2[use_idx, :]\n",
    "ynew = yfold2[use_idx]\n",
    "\n",
    "Xdiscard = Xfold2[discard_idx, :]\n",
    "ydiscard = yfold2[discard_idx]\n",
    "ypred_discard = ypred_old[discard_idx]\n",
    "```"
   ]
  },
  {
   "cell_type": "markdown",
   "metadata": {},
   "source": [
    "今回は閾値を0.15として計算した。"
   ]
  },
  {
   "cell_type": "markdown",
   "metadata": {},
   "source": [
    "### Step 4 New Model1の学習"
   ]
  },
  {
   "cell_type": "markdown",
   "metadata": {},
   "source": [
    "```python\n",
    "new_model1 = RandomForestRegressor(max_depth=5, n_estimators=100, n_jobs=-1)\n",
    "new_model1.fit(Xnew, ynew)\n",
    "```"
   ]
  },
  {
   "cell_type": "markdown",
   "metadata": {},
   "source": [
    "### Step 5-7 データセット作成~New Model2学習"
   ]
  },
  {
   "cell_type": "markdown",
   "metadata": {},
   "source": [
    "```python\n",
    "class SamplingRegressor:\n",
    "    def __init__(self, data, ypred, base_estimator, nsample=200):\n",
    "        self.nsample = nsample\n",
    "        self.clfs = [base_estimator for i in range(nsample)]\n",
    "        self.discarded = data\n",
    "        self.samples = [random.binomial(1, ypred) for i in range(nsample)]\n",
    "        self.X = None\n",
    "        self.y = []\n",
    "        \n",
    "    def fit(self, X, y):\n",
    "        self.X = np.vstack([X, self.discarded])\n",
    "        self.y = [np.hstack([y, s]) for s in self.samples]\n",
    "        for i, clf in enumerate(self.clfs):\n",
    "            clf.fit(self.X, self.y[i])\n",
    "            percentage = (i+1) / self.nsample * 100\n",
    "            sys.stdout.write(f\"\\r{percentage:.2f} percent finished\")\n",
    "        print()\n",
    "            \n",
    "    def predict(self, X):\n",
    "        preds = np.zeros(X.shape[0])\n",
    "        for clf in self.clfs:\n",
    "            preds += clf.predict(X)\n",
    "        return preds / self.nsample\n",
    "    \n",
    "rf = RandomForestRegressor(max_depth=5, n_estimators=100, n_jobs=-1)\n",
    "new_model2 = SamplingRegressor(Xdiscard, ypred_discard, rf, 1000)\n",
    "new_model2.fit(Xnew, ynew)\n",
    "```"
   ]
  },
  {
   "cell_type": "markdown",
   "metadata": {},
   "source": [
    "### Step 8 検証"
   ]
  },
  {
   "cell_type": "markdown",
   "metadata": {},
   "source": [
    "\n",
    "```python\n",
    "validation_model = RandomForestRegressor(max_depth=5, n_estimators=100, n_jobs=-1)\n",
    "validation_model.fit(Xfold2, yfold2)\n",
    "\n",
    "pred1 = new_model1.predict(Xfold3)\n",
    "pred2 = new_model2.predict(Xfold3)\n",
    "pred3 = validation_model.predict(Xfold3)\n",
    "\n",
    "idx = np.where(pred3 - pred1 > 0.1)[0]\n",
    "print((pred2[idx] > 0.15).mean())\n",
    "```\n"
   ]
  },
  {
   "cell_type": "markdown",
   "metadata": {},
   "source": [
    "これによりOld Modelでは審査落ちしていてNew Model1ではPDが低く出ていたデータのうち **98.8%** が提案手法ではPDが高い(閾値以上)と予測されることがわかった。"
   ]
  },
  {
   "cell_type": "markdown",
   "metadata": {},
   "source": [
    "なお、確認のためROC曲線を描いてみたのが以下の図\\label{fig:roc}である。"
   ]
  },
  {
   "cell_type": "raw",
   "metadata": {},
   "source": [
    "\\begin{figure}[htbp]\n",
    "  \\begin{center}\n",
    "    \\includegraphics[clip, scale=0.80]{./ROC_CURVE.eps}\n",
    "    \\label{fig:roc}\n",
    "  \\end{center}\n",
    "\\end{figure}"
   ]
  },
  {
   "cell_type": "markdown",
   "metadata": {},
   "source": [
    "AUCでは、Validation Modelが0.653, New Model1が0.649, New Model2が0.651となった。"
   ]
  },
  {
   "cell_type": "markdown",
   "metadata": {},
   "source": [
    "# 価値提案"
   ]
  },
  {
   "cell_type": "markdown",
   "metadata": {},
   "source": [
    "最後に提案したモデルについて、価格設定を行う。本モデルには **\\$ 40,000**　の価格を設定する。この価格の根拠は以下のとおりである。"
   ]
  },
  {
   "cell_type": "markdown",
   "metadata": {},
   "source": [
    "まず、Home Credit GroupがHome-Credit-Default-Riskのコンペティションに設定した賞金は総額\\$ 70,000であり、一位の賞金は\\$ 35,000である。この価格設定は、コンペティションに対してHome Credit Groupがかけている期待を反映したものであると言える。先に述べたとおり、Home Credit Groupがこのコンペティションに求めているものは、Home Credit Groupが抱えている課題を解決するデータ分析のやり方のヒントであって提出されるモデルそのものではない。すなわち、実務に直接使えるものではなく、その業務を改善するヒントに \\$ 70,000という額を設定していると考えられる。これは将来にわたってのクレジットスコアリングモデル構築費用の一部の額を積分した値と捉えることができる。\n",
    "\n",
    "また、同業である富士通総研ではクレジットスコアリングモデル構築に$ 50,000以上という価格設定をしている\\cite{fujitsu}。これを考えて、クレジットスコアリングモデルの相場はおよそ\\$ 30,000 - \\$ 100,000程度であると予測した。この上で今回のスコアリングモデルはHome Credit Groupが抱える課題にクリティカルに作用する解決策を含むもののその他の部分での手法的目新しさはなく、運用中に改善を多く施すことになると考えられることから、スコアリングモデルの価格の下限に近い\\$ 40,000を設定した。"
   ]
  },
  {
   "cell_type": "raw",
   "metadata": {},
   "source": []
  },
  {
   "cell_type": "code",
   "execution_count": null,
   "metadata": {},
   "outputs": [],
   "source": []
  }
 ],
 "metadata": {
  "kernelspec": {
   "display_name": "Python 3",
   "language": "python",
   "name": "python3"
  },
  "language_info": {
   "codemirror_mode": {
    "name": "ipython",
    "version": 3
   },
   "file_extension": ".py",
   "mimetype": "text/x-python",
   "name": "python",
   "nbconvert_exporter": "python",
   "pygments_lexer": "ipython3",
   "version": "3.6.3"
  }
 },
 "nbformat": 4,
 "nbformat_minor": 2
}
