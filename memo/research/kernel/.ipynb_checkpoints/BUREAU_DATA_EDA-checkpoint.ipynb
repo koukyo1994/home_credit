{
 "cells": [
  {
   "cell_type": "code",
   "execution_count": 1,
   "metadata": {
    "_cell_guid": "b1076dfc-b9ad-4769-8c92-a6c4dae69d19",
    "_uuid": "8f2839f25d086af736a60e9eeb907d3b93b6e0e5",
    "collapsed": true
   },
   "outputs": [],
   "source": [
    "import numpy as np \n",
    "import pandas as pd \n",
    "import sys\n",
    "pd.set_option('display.max_colwidth', -1)\n",
    "import warnings\n",
    "warnings.filterwarnings(\"ignore\")"
   ]
  },
  {
   "cell_type": "code",
   "execution_count": 2,
   "metadata": {
    "_uuid": "c1c63d2d93747f2849b9306f7d6174aec6050e0e",
    "collapsed": true
   },
   "outputs": [],
   "source": [
    "train = pd.read_csv('../../../data/application_train.csv')\n",
    "bureau = pd.read_csv('../../../data/bureau.csv')"
   ]
  },
  {
   "cell_type": "markdown",
   "metadata": {
    "_uuid": "e69bf9ea736f9a0aa992b2f1da5bbc08950d3cdd"
   },
   "source": [
    "# HOW TO INTERPRET BUREAU DATA\n",
    "\n",
    "This table talks about the Loan data of each unique customer with all financial institutions other than Home Credit\n",
    "For each unique SK_ID_CURR we have multiple SK_ID_BUREAU Id's, each being a unique loan transaction from other financial institutions availed by the same customer and reported to the bureau. "
   ]
  },
  {
   "cell_type": "markdown",
   "metadata": {
    "_uuid": "ec4df5029fb0b8d5c83eda395d0f81a705d3e674"
   },
   "source": [
    "# EXAMPLE OF BUREAU TRANSACTIONS \n",
    "\n",
    "- In the example below customer with SK_ID_CURR = 100001 had  7 credit transactions before the current application. "
   ]
  },
  {
   "cell_type": "code",
   "execution_count": 4,
   "metadata": {
    "_uuid": "e1b10dbbc77faf7f2c8f142c82a48157325591c5"
   },
   "outputs": [],
   "source": [
    "bureau[bureau['SK_ID_CURR'] == 100001]"
   ]
  },
  {
   "cell_type": "markdown",
   "metadata": {
    "_uuid": "bbe08509242f983c705b40e7ea098280615917a6"
   },
   "source": [
    "# UNDERSTANDING OF VARIABLES "
   ]
  },
  {
   "cell_type": "markdown",
   "metadata": {
    "_uuid": "aac62f58dbda79c48f499d86ed696a6bbaac0613"
   },
   "source": [
    "CREDIT_ACTIVE - Current status of a Loan - Closed/ Active (2 values)\n",
    "\n",
    "CREDIT_CURRENCY - Currency in which the transaction was executed -  Currency1, Currency2, Currency3, Currency4 \n",
    "                                        ( 4 values)\n",
    "                                        \n",
    "CREDIT_DAY_OVERDUE -  Number of overdue days \n",
    "\n",
    "CREDIT_TYPE -  Consumer Credit, Credit card, Mortgage, Car loan, Microloan, Loan for working capital replemishment, \n",
    "                             Loan for Business development, Real estate loan, Unkown type of laon, Another type of loan. \n",
    "                             Cash loan, Loan for the purchase of equipment, Mobile operator loan, Interbank credit, \n",
    "                             Loan for purchase of shares ( 15 values )\n",
    "\n",
    "DAYS_CREDIT -   Number of days ELAPSED since customer applied for CB credit with respect to current application \n",
    "Interpretation - Are these loans evenly spaced time intervals? Are they concentrated within a same time frame?\n",
    "\n",
    "\n",
    "DAYS_CREDIT_ENDDATE - Number of days the customer CREDIT is valid at the time of application \n",
    "CREDIT_DAY_OVERDUE - Number of days the customer CREDIT is past the end date at the time of application\n",
    "\n",
    "AMT_CREDIT_SUM -  Total available credit for a customer \n",
    "AMT_CREDIT_SUM_DEBT -  Total amount yet to be repayed\n",
    "AMT_CREDIT_SUM_LIMIT -   Current Credit that has been utilized \n",
    "AMT_CREDIT_SUM_OVERDUE - Current credit payment that is overdue \n",
    "CNT_CREDIT_PROLONG - How many times was the Credit date prolonged \n",
    "\n",
    "# NOTE: \n",
    "For a given loan transaction \n",
    " 'AMT_CREDIT_SUM' =  'AMT_CREDIT_SUM_DEBT' +'AMT_CREDIT_SUM_LIMIT'\n",
    "\n",
    "\n",
    "\n",
    "AMT_ANNUITY -  Annuity of the Credit Bureau data\n",
    "DAYS_CREDIT_UPDATE -  Number of days before current application when last CREDIT UPDATE was received \n",
    "DAYS_ENDDATE_FACT -    Days since CB credit ended at the time of application \n",
    "AMT_CREDIT_MAX_OVERDUE - Maximum Credit amount overdue at the time of application \n"
   ]
  },
  {
   "cell_type": "markdown",
   "metadata": {
    "_uuid": "bf5326cce3eda032ddd3153cedd8489dc23f72b5"
   },
   "source": [
    "# FEATURE ENGINEERING WITH BUREAU CREDIT "
   ]
  },
  {
   "cell_type": "markdown",
   "metadata": {
    "_uuid": "2bc4aa7b6bae3b57b7a7920e459902063a477553"
   },
   "source": [
    "# FEATURE 1 - NUMBER OF PAST LOANS PER CUSTOMER "
   ]
  },
  {
   "cell_type": "code",
   "execution_count": 5,
   "metadata": {
    "_uuid": "5fa4424b0c343f46c87af48ab33364753b7604f5"
   },
   "outputs": [],
   "source": [
    "B = bureau[0:10000]\n",
    "grp = B[['SK_ID_CURR', 'DAYS_CREDIT']].groupby(by = ['SK_ID_CURR'])['DAYS_CREDIT'].count().reset_index().rename(index=str, columns={'DAYS_CREDIT': 'BUREAU_LOAN_COUNT'})\n",
    "B = B.merge(grp, on = ['SK_ID_CURR'], how = 'left')\n",
    "print(B.shape)"
   ]
  },
  {
   "cell_type": "markdown",
   "metadata": {
    "_uuid": "ef1d2c8dc19e66a135b3b575f30acd0909693e22"
   },
   "source": [
    "# FEATURE 2 - NUMBER OF TYPES OF PAST LOANS PER CUSTOMER "
   ]
  },
  {
   "cell_type": "code",
   "execution_count": 7,
   "metadata": {
    "_uuid": "75866b1b15bd469cb4daa71f4d43c64a36999783"
   },
   "outputs": [],
   "source": [
    "B = bureau[0:10000]\n",
    "grp = B[['SK_ID_CURR', 'CREDIT_TYPE']].groupby(by = ['SK_ID_CURR'])['CREDIT_TYPE'].nunique().reset_index().rename(index=str, columns={'CREDIT_TYPE': 'BUREAU_LOAN_TYPES'})\n",
    "B = B.merge(grp, on = ['SK_ID_CURR'], how = 'left')\n",
    "print(B.shape)"
   ]
  },
  {
   "cell_type": "markdown",
   "metadata": {
    "_uuid": "c7dacc5c1c6d9fd748d2181849c7617a9c1b7449"
   },
   "source": [
    "# FEATURE 3 - AVERAGE NUMBER OF PAST LOANS PER TYPE PER CUSTOMER\n",
    "\n",
    "# Is the Customer diversified in taking multiple types of Loan or Focused on a single type of loan\n"
   ]
  },
  {
   "cell_type": "code",
   "execution_count": 10,
   "metadata": {
    "_uuid": "0c490cc3d1610efdf294d08e50f9b268661d846e"
   },
   "outputs": [],
   "source": [
    "B = bureau[0:10000]\n",
    "# Number of Loans per Customer\n",
    "grp = B[['SK_ID_CURR', 'DAYS_CREDIT']].groupby(by = ['SK_ID_CURR'])['DAYS_CREDIT'].count().reset_index().rename(index=str, columns={'DAYS_CREDIT': 'BUREAU_LOAN_COUNT'})\n",
    "B = B.merge(grp, on = ['SK_ID_CURR'], how = 'left')\n",
    "\n",
    "# Number of types of Credit loans for each Customer \n",
    "grp = B[['SK_ID_CURR', 'CREDIT_TYPE']].groupby(by = ['SK_ID_CURR'])['CREDIT_TYPE'].nunique().reset_index().rename(index=str, columns={'CREDIT_TYPE': 'BUREAU_LOAN_TYPES'})\n",
    "B = B.merge(grp, on = ['SK_ID_CURR'], how = 'left')\n",
    "\n",
    "# Average Number of Loans per Loan Type\n",
    "B['AVERAGE_LOAN_TYPE'] = B['BUREAU_LOAN_COUNT']/B['BUREAU_LOAN_TYPES']\n",
    "del B['BUREAU_LOAN_COUNT'], B['BUREAU_LOAN_TYPES']\n",
    "import gc\n",
    "gc.collect()\n",
    "print(B.shape)"
   ]
  },
  {
   "cell_type": "markdown",
   "metadata": {
    "_uuid": "74c86dc591524fa52e587f8a466578b3e19456a8"
   },
   "source": [
    "# FEATURE 4 - % OF ACTIVE LOANS FROM BUREAU DATA "
   ]
  },
  {
   "cell_type": "code",
   "execution_count": 16,
   "metadata": {
    "_uuid": "ba87d73bfb1730c3ab043c4a43fb13b3edea01ff"
   },
   "outputs": [],
   "source": [
    "B = bureau[0:10000]\n",
    "# Create a new dummy column for whether CREDIT is ACTIVE OR CLOED \n",
    "B['CREDIT_ACTIVE_BINARY'] = B['CREDIT_ACTIVE']\n",
    "\n",
    "def f(x):\n",
    "    if x == 'Closed':\n",
    "        y = 0\n",
    "    else:\n",
    "        y = 1    \n",
    "    return y\n",
    "\n",
    "B['CREDIT_ACTIVE_BINARY'] = B.apply(lambda x: f(x.CREDIT_ACTIVE), axis = 1)\n",
    "\n",
    "# Calculate mean number of loans that are ACTIVE per CUSTOMER \n",
    "grp = B.groupby(by = ['SK_ID_CURR'])['CREDIT_ACTIVE_BINARY'].mean().reset_index().rename(index=str, columns={'CREDIT_ACTIVE_BINARY': 'ACTIVE_LOANS_PERCENTAGE'})\n",
    "B = B.merge(grp, on = ['SK_ID_CURR'], how = 'left')\n",
    "del B['CREDIT_ACTIVE_BINARY']\n",
    "import gc\n",
    "gc.collect()\n",
    "print(B.shape)\n",
    "\n",
    "B[B['SK_ID_CURR'] == 100653]"
   ]
  },
  {
   "cell_type": "markdown",
   "metadata": {
    "_uuid": "2a8d439f731a71449ae6852e4f8fdfc9aea1f6a7"
   },
   "source": [
    "# FEATURE 5\n",
    "\n",
    "# AVERAGE NUMBER OF DAYS BETWEEN SUCCESSIVE PAST APPLICATIONS FOR EACH CUSTOMER \n",
    "\n",
    "# How often did the customer take credit in the past? Was it spaced out at regular time intervals - a signal of good financial planning OR were the loans concentrated around a smaller time frame - indicating potential financial trouble?\n"
   ]
  },
  {
   "cell_type": "code",
   "execution_count": 12,
   "metadata": {
    "_uuid": "ef03e96b1e6fd9da97e0187d280cb0356ebce3ed"
   },
   "outputs": [],
   "source": [
    "B = bureau[0:10000]\n",
    "# Groupby each Customer and Sort values of DAYS_CREDIT in ascending order\n",
    "grp = B[['SK_ID_CURR', 'SK_ID_BUREAU', 'DAYS_CREDIT']].groupby(by = ['SK_ID_CURR'])\n",
    "grp1 = grp.apply(lambda x: x.sort_values(['DAYS_CREDIT'], ascending = False)).reset_index(drop = True)#rename(index = str, columns = {'DAYS_CREDIT': 'DAYS_CREDIT_DIFF'})\n",
    "print(\"Grouping and Sorting done\")\n",
    "\n",
    "# Calculate Difference between the number of Days \n",
    "grp1['DAYS_CREDIT1'] = grp1['DAYS_CREDIT']*-1\n",
    "grp1['DAYS_DIFF'] = grp1.groupby(by = ['SK_ID_CURR'])['DAYS_CREDIT1'].diff()\n",
    "grp1['DAYS_DIFF'] = grp1['DAYS_DIFF'].fillna(0).astype('uint32')\n",
    "del grp1['DAYS_CREDIT1'], grp1['DAYS_CREDIT'], grp1['SK_ID_CURR']\n",
    "gc.collect()\n",
    "print(\"Difference days calculated\")\n",
    "\n",
    "B = B.merge(grp1, on = ['SK_ID_BUREAU'], how = 'left')\n",
    "print(\"Difference in Dates between Previous CB applications is CALCULATED \")\n",
    "print(B.shape)"
   ]
  },
  {
   "cell_type": "markdown",
   "metadata": {
    "_uuid": "57863098361700d9fcb3b678602928afc61bdc89"
   },
   "source": [
    "# FEATURE 6  \n",
    "\n",
    "# % of LOANS PER CUSTOMER WHERE END DATE FOR CREDIT IS PAST\n",
    "\n",
    " # INTERPRETING CREDIT_DAYS_ENDDATE \n",
    " \n",
    " #  NEGATIVE VALUE - Credit date was in the past at time of application( Potential Red Flag !!! )\n",
    " \n",
    " # POSITIVE VALUE - Credit date is in the future at time of application ( Potential Good Sign !!!!)\n",
    " \n",
    " # NOTE : This is not the same as % of Active loans since Active loans \n",
    " # can have Negative and Positive values for DAYS_CREDIT_ENDDATE"
   ]
  },
  {
   "cell_type": "code",
   "execution_count": 17,
   "metadata": {
    "_uuid": "8c3402c9fdab2910bf03a0f14e1f312331de4450"
   },
   "outputs": [],
   "source": [
    "B = bureau[0:10000]\n",
    "B['CREDIT_ENDDATE_BINARY'] = B['DAYS_CREDIT_ENDDATE']\n",
    "\n",
    "def f(x):\n",
    "    if x<0:\n",
    "        y = 0\n",
    "    else:\n",
    "        y = 1   \n",
    "    return y\n",
    "\n",
    "B['CREDIT_ENDDATE_BINARY'] = B.apply(lambda x: f(x.DAYS_CREDIT_ENDDATE), axis = 1)\n",
    "print(\"New Binary Column calculated\")\n",
    "\n",
    "grp = B.groupby(by = ['SK_ID_CURR'])['CREDIT_ENDDATE_BINARY'].mean().reset_index().rename(index=str, columns={'CREDIT_ENDDATE_BINARY': 'CREDIT_ENDDATE_PERCENTAGE'})\n",
    "B = B.merge(grp, on = ['SK_ID_CURR'], how = 'left')\n",
    "\n",
    "del B['CREDIT_ENDDATE_BINARY']\n",
    "gc.collect()\n",
    "print(B.shape)"
   ]
  },
  {
   "cell_type": "markdown",
   "metadata": {
    "_uuid": "b701705b4341d31c1a8c9cb780b96f6891edb1c6"
   },
   "source": [
    "# FEATURE 7 \n",
    "\n",
    "# AVERAGE NUMBER OF DAYS IN WHICH CREDIT EXPIRES IN FUTURE -INDICATION OF CUSTOMER DELINQUENCY IN FUTURE??"
   ]
  },
  {
   "cell_type": "code",
   "execution_count": 20,
   "metadata": {
    "_uuid": "846b8e10e4d5800b45edeac31b134f5521e9e5c9"
   },
   "outputs": [],
   "source": [
    "# Repeating Feature 6 to Calculate all transactions with ENDATE as POSITIVE VALUES \n",
    "\n",
    "B = bureau[0:10000]\n",
    "# Dummy column to calculate 1 or 0 values. 1 for Positive CREDIT_ENDDATE and 0 for Negative\n",
    "B['CREDIT_ENDDATE_BINARY'] = B['DAYS_CREDIT_ENDDATE']\n",
    "\n",
    "def f(x):\n",
    "    if x<0:\n",
    "        y = 0\n",
    "    else:\n",
    "        y = 1   \n",
    "    return y\n",
    "\n",
    "B['CREDIT_ENDDATE_BINARY'] = B.apply(lambda x: f(x.DAYS_CREDIT_ENDDATE), axis = 1)\n",
    "print(\"New Binary Column calculated\")\n",
    "\n",
    "# We take only positive values of  ENDDATE since we are looking at Bureau Credit VALID IN FUTURE \n",
    "# as of the date of the customer's loan application with Home Credit \n",
    "B1 = B[B['CREDIT_ENDDATE_BINARY'] == 1]\n",
    "B1.shape\n",
    "\n",
    "#Calculate Difference in successive future end dates of CREDIT \n",
    "\n",
    "# Create Dummy Column for CREDIT_ENDDATE \n",
    "B1['DAYS_CREDIT_ENDDATE1'] = B1['DAYS_CREDIT_ENDDATE']\n",
    "# Groupby Each Customer ID \n",
    "grp = B1[['SK_ID_CURR', 'SK_ID_BUREAU', 'DAYS_CREDIT_ENDDATE1']].groupby(by = ['SK_ID_CURR'])\n",
    "# Sort the values of CREDIT_ENDDATE for each customer ID \n",
    "grp1 = grp.apply(lambda x: x.sort_values(['DAYS_CREDIT_ENDDATE1'], ascending = True)).reset_index(drop = True)\n",
    "del grp\n",
    "gc.collect()\n",
    "print(\"Grouping and Sorting done\")\n",
    "\n",
    "# Calculate the Difference in ENDDATES and fill missing values with zero \n",
    "grp1['DAYS_ENDDATE_DIFF'] = grp1.groupby(by = ['SK_ID_CURR'])['DAYS_CREDIT_ENDDATE1'].diff()\n",
    "grp1['DAYS_ENDDATE_DIFF'] = grp1['DAYS_ENDDATE_DIFF'].fillna(0).astype('uint32')\n",
    "del grp1['DAYS_CREDIT_ENDDATE1'], grp1['SK_ID_CURR']\n",
    "gc.collect()\n",
    "print(\"Difference days calculated\")\n",
    "\n",
    "# Merge new feature 'DAYS_ENDDATE_DIFF' with original Data frame for BUREAU DATA\n",
    "B = B.merge(grp1, on = ['SK_ID_BUREAU'], how = 'left')\n",
    "del grp1\n",
    "gc.collect()\n",
    "\n",
    "# Calculate Average of DAYS_ENDDATE_DIFF\n",
    "\n",
    "grp = B[['SK_ID_CURR', 'DAYS_ENDDATE_DIFF']].groupby(by = ['SK_ID_CURR'])['DAYS_ENDDATE_DIFF'].mean().reset_index().rename( index = str, columns = {'DAYS_ENDDATE_DIFF': 'AVG_ENDDATE_FUTURE'})\n",
    "B = B.merge(grp, on = ['SK_ID_CURR'], how = 'left')\n",
    "del grp \n",
    "#del B['DAYS_ENDDATE_DIFF']\n",
    "del B['CREDIT_ENDDATE_BINARY'], B['DAYS_CREDIT_ENDDATE']\n",
    "gc.collect()\n",
    "print(B.shape)"
   ]
  },
  {
   "cell_type": "code",
   "execution_count": 21,
   "metadata": {
    "_uuid": "4c136670248ed676d85a7b57fb5710ac0187488e"
   },
   "outputs": [],
   "source": [
    "# Verification of Feature \n",
    "B[B['SK_ID_CURR'] == 100653]\n",
    "# In the Data frame below we have 3 values not NAN \n",
    "# Average of 3 values = (0 +0 + 3292)/3 = 1097.33 \n",
    "#The NAN Values are Not Considered since these values DO NOT HAVE A FUTURE CREDIT END DATE "
   ]
  },
  {
   "cell_type": "markdown",
   "metadata": {
    "_uuid": "1b1a219ed085a91c3d4d31d97094b400f9b38076"
   },
   "source": [
    "# FEATURE 8 - DEBT OVER CREDIT RATIO \n",
    "# The Ratio of Total Debt to Total Credit for each Customer \n",
    "# A High value may be a red flag indicative of potential default"
   ]
  },
  {
   "cell_type": "code",
   "execution_count": 22,
   "metadata": {
    "_uuid": "224c5ae47cd15eb3c44f8a635182eb7cddab93e8"
   },
   "outputs": [],
   "source": [
    "B[~B['AMT_CREDIT_SUM_LIMIT'].isnull()][0:2]\n",
    "\n",
    "# WE can see in the Table Below \n",
    "# AMT_CREDIT_SUM = AMT_CREDIT_SUM_DEBT + AMT_CREDIT_SUM_LIMIT"
   ]
  },
  {
   "cell_type": "code",
   "execution_count": 23,
   "metadata": {
    "_uuid": "d4985f67f37f089b0b5ef5b39229f8ee1850a234"
   },
   "outputs": [],
   "source": [
    "B = bureau[0:10000]\n",
    "\n",
    "B['AMT_CREDIT_SUM_DEBT'] = B['AMT_CREDIT_SUM_DEBT'].fillna(0)\n",
    "B['AMT_CREDIT_SUM'] = B['AMT_CREDIT_SUM'].fillna(0)\n",
    "\n",
    "grp1 = B[['SK_ID_CURR', 'AMT_CREDIT_SUM_DEBT']].groupby(by = ['SK_ID_CURR'])['AMT_CREDIT_SUM_DEBT'].sum().reset_index().rename( index = str, columns = { 'AMT_CREDIT_SUM_DEBT': 'TOTAL_CUSTOMER_DEBT'})\n",
    "grp2 = B[['SK_ID_CURR', 'AMT_CREDIT_SUM']].groupby(by = ['SK_ID_CURR'])['AMT_CREDIT_SUM'].sum().reset_index().rename( index = str, columns = { 'AMT_CREDIT_SUM': 'TOTAL_CUSTOMER_CREDIT'})\n",
    "\n",
    "B = B.merge(grp1, on = ['SK_ID_CURR'], how = 'left')\n",
    "B = B.merge(grp2, on = ['SK_ID_CURR'], how = 'left')\n",
    "del grp1, grp2\n",
    "gc.collect()\n",
    "\n",
    "B['DEBT_CREDIT_RATIO'] = B['TOTAL_CUSTOMER_DEBT']/B['TOTAL_CUSTOMER_CREDIT']\n",
    "\n",
    "del B['TOTAL_CUSTOMER_DEBT'], B['TOTAL_CUSTOMER_CREDIT']\n",
    "gc.collect()\n",
    "print(B.shape)"
   ]
  },
  {
   "cell_type": "markdown",
   "metadata": {
    "_uuid": "9c28c097baf6007a1f0412e164dd8ab3b173936e"
   },
   "source": [
    "# FEATURE 9 - OVERDUE OVER DEBT RATIO \n",
    "#  What fraction of total Debt is overdue per customer?\n",
    "# A high value could indicate a potential DEFAULT "
   ]
  },
  {
   "cell_type": "code",
   "execution_count": 24,
   "metadata": {
    "_uuid": "9c39380be96689344da9b9008193ff05343ff1dc"
   },
   "outputs": [],
   "source": [
    "B = bureau[0:10000]\n",
    "\n",
    "B['AMT_CREDIT_SUM_DEBT'] = B['AMT_CREDIT_SUM_DEBT'].fillna(0)\n",
    "B['AMT_CREDIT_SUM_OVERDUE'] = B['AMT_CREDIT_SUM_OVERDUE'].fillna(0)\n",
    "\n",
    "grp1 = B[['SK_ID_CURR', 'AMT_CREDIT_SUM_DEBT']].groupby(by = ['SK_ID_CURR'])['AMT_CREDIT_SUM_DEBT'].sum().reset_index().rename( index = str, columns = { 'AMT_CREDIT_SUM_DEBT': 'TOTAL_CUSTOMER_DEBT'})\n",
    "grp2 = B[['SK_ID_CURR', 'AMT_CREDIT_SUM_OVERDUE']].groupby(by = ['SK_ID_CURR'])['AMT_CREDIT_SUM_OVERDUE'].sum().reset_index().rename( index = str, columns = { 'AMT_CREDIT_SUM_OVERDUE': 'TOTAL_CUSTOMER_OVERDUE'})\n",
    "\n",
    "B = B.merge(grp1, on = ['SK_ID_CURR'], how = 'left')\n",
    "B = B.merge(grp2, on = ['SK_ID_CURR'], how = 'left')\n",
    "del grp1, grp2\n",
    "gc.collect()\n",
    "\n",
    "B['OVERDUE_DEBT_RATIO'] = B['TOTAL_CUSTOMER_OVERDUE']/B['TOTAL_CUSTOMER_DEBT']\n",
    "\n",
    "del B['TOTAL_CUSTOMER_OVERDUE'], B['TOTAL_CUSTOMER_DEBT']\n",
    "gc.collect()\n",
    "print(B.shape)"
   ]
  },
  {
   "cell_type": "markdown",
   "metadata": {
    "_uuid": "8858ab1aab13d02cd1581f844fb0e3f31c752973"
   },
   "source": [
    "# FEATURE 10 - AVERAGE NUMBER OF LOANS PROLONGED "
   ]
  },
  {
   "cell_type": "code",
   "execution_count": 25,
   "metadata": {
    "_uuid": "b8f7432e83fa1e6b6fed1474ff88049553e1dbcf"
   },
   "outputs": [],
   "source": [
    "B = bureau[0:10000]\n",
    "\n",
    "B['CNT_CREDIT_PROLONG'] = B['CNT_CREDIT_PROLONG'].fillna(0)\n",
    "grp = B[['SK_ID_CURR', 'CNT_CREDIT_PROLONG']].groupby(by = ['SK_ID_CURR'])['CNT_CREDIT_PROLONG'].mean().reset_index().rename( index = str, columns = { 'CNT_CREDIT_PROLONG': 'AVG_CREDITDAYS_PROLONGED'})\n",
    "B = B.merge(grp, on = ['SK_ID_CURR'], how = 'left')\n",
    "print(B.shape)"
   ]
  },
  {
   "cell_type": "code",
   "execution_count": null,
   "metadata": {
    "_uuid": "12ed8bfe2dfa59e2d5db1e6ba7feaf2bd642b896",
    "collapsed": true
   },
   "outputs": [],
   "source": []
  }
 ],
 "metadata": {
  "kernelspec": {
   "display_name": "Python 3",
   "language": "python",
   "name": "python3"
  },
  "language_info": {
   "codemirror_mode": {
    "name": "ipython",
    "version": 3
   },
   "file_extension": ".py",
   "mimetype": "text/x-python",
   "name": "python",
   "nbconvert_exporter": "python",
   "pygments_lexer": "ipython3",
   "version": "3.6.4"
  }
 },
 "nbformat": 4,
 "nbformat_minor": 2
}
